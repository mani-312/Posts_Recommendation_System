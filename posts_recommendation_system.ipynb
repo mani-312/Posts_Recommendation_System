{
  "nbformat": 4,
  "nbformat_minor": 0,
  "metadata": {
    "colab": {
      "name": "post_recommendation_system.ipynb",
      "provenance": [],
      "collapsed_sections": [],
      "mount_file_id": "13u4RyADkRSa7nset-IoJASvkXnHHG9qv",
      "authorship_tag": "ABX9TyPLuYARtWLROqYlkejKiSZY",
      "include_colab_link": true
    },
    "kernelspec": {
      "name": "python3",
      "display_name": "Python 3"
    },
    "language_info": {
      "name": "python"
    }
  },
  "cells": [
    {
      "cell_type": "markdown",
      "metadata": {
        "id": "view-in-github",
        "colab_type": "text"
      },
      "source": [
        "<a href=\"https://colab.research.google.com/github/mani-312/Posts_Recommendation_System/blob/main/posts_recommendation_system.ipynb\" target=\"_parent\"><img src=\"https://colab.research.google.com/assets/colab-badge.svg\" alt=\"Open In Colab\"/></a>"
      ]
    },
    {
      "cell_type": "markdown",
      "metadata": {
        "id": "OHMqqQDtZuBi"
      },
      "source": [
        ""
      ]
    },
    {
      "cell_type": "markdown",
      "metadata": {
        "id": "8QAkBFM5gACF"
      },
      "source": [
        "\n",
        "# **Collaborative-based filtering**\n",
        "-- Recommending based on the past history of user-item activity"
      ]
    },
    {
      "cell_type": "code",
      "metadata": {
        "id": "Otbk_tzTf9lk"
      },
      "source": [
        "import numpy as np\n",
        "import pandas as pd\n",
        "pd.options.mode.chained_assignment = None  # default='warn'"
      ],
      "execution_count": null,
      "outputs": []
    },
    {
      "cell_type": "markdown",
      "metadata": {
        "id": "nNqJ3iEBgTpa"
      },
      "source": [
        "\n",
        "**--Loading views.csv**"
      ]
    },
    {
      "cell_type": "code",
      "metadata": {
        "id": "7bFZvE3LAwsS",
        "colab": {
          "base_uri": "https://localhost:8080/",
          "height": 206
        },
        "outputId": "ba835dcc-00b3-4921-8701-196eb094e20b"
      },
      "source": [
        "views = pd.read_csv(\"/content/drive/MyDrive/internshala_files/views.csv\")\n",
        "views.head()"
      ],
      "execution_count": null,
      "outputs": [
        {
          "output_type": "execute_result",
          "data": {
            "text/html": [
              "<div>\n",
              "<style scoped>\n",
              "    .dataframe tbody tr th:only-of-type {\n",
              "        vertical-align: middle;\n",
              "    }\n",
              "\n",
              "    .dataframe tbody tr th {\n",
              "        vertical-align: top;\n",
              "    }\n",
              "\n",
              "    .dataframe thead th {\n",
              "        text-align: right;\n",
              "    }\n",
              "</style>\n",
              "<table border=\"1\" class=\"dataframe\">\n",
              "  <thead>\n",
              "    <tr style=\"text-align: right;\">\n",
              "      <th></th>\n",
              "      <th>user_id</th>\n",
              "      <th>post_id</th>\n",
              "      <th>timestamp</th>\n",
              "    </tr>\n",
              "  </thead>\n",
              "  <tbody>\n",
              "    <tr>\n",
              "      <th>0</th>\n",
              "      <td>5df49b32cc709107827fb3c7</td>\n",
              "      <td>5ec821ddec493f4a2655889e</td>\n",
              "      <td>2020-06-01T10:46:45.131Z</td>\n",
              "    </tr>\n",
              "    <tr>\n",
              "      <th>1</th>\n",
              "      <td>5ed3748576027d35905ccaab</td>\n",
              "      <td>5ed4cbadbd514d602c1531a6</td>\n",
              "      <td>2020-06-01T09:39:20.021Z</td>\n",
              "    </tr>\n",
              "    <tr>\n",
              "      <th>2</th>\n",
              "      <td>5ed0defa76027d35905cc2de</td>\n",
              "      <td>5eac305f10426255a7aa9dd3</td>\n",
              "      <td>2020-06-01T08:12:42.682Z</td>\n",
              "    </tr>\n",
              "    <tr>\n",
              "      <th>3</th>\n",
              "      <td>5ed0defa76027d35905cc2de</td>\n",
              "      <td>5ed1ff0276027d35905cc60d</td>\n",
              "      <td>2020-06-01T08:10:23.880Z</td>\n",
              "    </tr>\n",
              "    <tr>\n",
              "      <th>4</th>\n",
              "      <td>5ed0defa76027d35905cc2de</td>\n",
              "      <td>5ed3820f76027d35905ccac8</td>\n",
              "      <td>2020-06-01T08:08:54.124Z</td>\n",
              "    </tr>\n",
              "  </tbody>\n",
              "</table>\n",
              "</div>"
            ],
            "text/plain": [
              "                    user_id                   post_id                 timestamp\n",
              "0  5df49b32cc709107827fb3c7  5ec821ddec493f4a2655889e  2020-06-01T10:46:45.131Z\n",
              "1  5ed3748576027d35905ccaab  5ed4cbadbd514d602c1531a6  2020-06-01T09:39:20.021Z\n",
              "2  5ed0defa76027d35905cc2de  5eac305f10426255a7aa9dd3  2020-06-01T08:12:42.682Z\n",
              "3  5ed0defa76027d35905cc2de  5ed1ff0276027d35905cc60d  2020-06-01T08:10:23.880Z\n",
              "4  5ed0defa76027d35905cc2de  5ed3820f76027d35905ccac8  2020-06-01T08:08:54.124Z"
            ]
          },
          "metadata": {
            "tags": []
          },
          "execution_count": 399
        }
      ]
    },
    {
      "cell_type": "code",
      "metadata": {
        "colab": {
          "base_uri": "https://localhost:8080/"
        },
        "id": "f7AMOJdnv0pv",
        "outputId": "939ff655-d9e6-4917-acdf-bbdbafc5992e"
      },
      "source": [
        "views.shape"
      ],
      "execution_count": null,
      "outputs": [
        {
          "output_type": "execute_result",
          "data": {
            "text/plain": [
              "(1449, 3)"
            ]
          },
          "metadata": {
            "tags": []
          },
          "execution_count": 400
        }
      ]
    },
    {
      "cell_type": "code",
      "metadata": {
        "colab": {
          "base_uri": "https://localhost:8080/"
        },
        "id": "XiVK777HF0lx",
        "outputId": "78fc4746-fc07-49ad-ad3b-8d064f97b4ee"
      },
      "source": [
        "views.isnull().sum()"
      ],
      "execution_count": null,
      "outputs": [
        {
          "output_type": "execute_result",
          "data": {
            "text/plain": [
              "user_id      0\n",
              "post_id      0\n",
              "timestamp    0\n",
              "dtype: int64"
            ]
          },
          "metadata": {
            "tags": []
          },
          "execution_count": 401
        }
      ]
    },
    {
      "cell_type": "markdown",
      "metadata": {
        "id": "2KpCzoyogf-a"
      },
      "source": [
        "**Add new column 'visits' to dataframe**\n",
        "          \n",
        "\n",
        "> --visits = Number of times each user viewed a post\n",
        "\n"
      ]
    },
    {
      "cell_type": "code",
      "metadata": {
        "colab": {
          "base_uri": "https://localhost:8080/",
          "height": 206
        },
        "id": "Y3xCzfhKu_Ac",
        "outputId": "668cfdc2-5551-43f8-802a-308ac2def508"
      },
      "source": [
        "views = views.groupby(['user_id', 'post_id']).size()\n",
        "views = views.to_frame(name = 'visits').reset_index()\n",
        "views.sort_values('visits',ascending=False).head()"
      ],
      "execution_count": null,
      "outputs": [
        {
          "output_type": "execute_result",
          "data": {
            "text/html": [
              "<div>\n",
              "<style scoped>\n",
              "    .dataframe tbody tr th:only-of-type {\n",
              "        vertical-align: middle;\n",
              "    }\n",
              "\n",
              "    .dataframe tbody tr th {\n",
              "        vertical-align: top;\n",
              "    }\n",
              "\n",
              "    .dataframe thead th {\n",
              "        text-align: right;\n",
              "    }\n",
              "</style>\n",
              "<table border=\"1\" class=\"dataframe\">\n",
              "  <thead>\n",
              "    <tr style=\"text-align: right;\">\n",
              "      <th></th>\n",
              "      <th>user_id</th>\n",
              "      <th>post_id</th>\n",
              "      <th>visits</th>\n",
              "    </tr>\n",
              "  </thead>\n",
              "  <tbody>\n",
              "    <tr>\n",
              "      <th>442</th>\n",
              "      <td>5d7c994d5720533e15c3b1e9</td>\n",
              "      <td>5eb2c11210426255a7aaa052</td>\n",
              "      <td>5</td>\n",
              "    </tr>\n",
              "    <tr>\n",
              "      <th>801</th>\n",
              "      <td>5e1ef04c2a37d20505da2b8b</td>\n",
              "      <td>5eb15a9810426255a7aaa019</td>\n",
              "      <td>3</td>\n",
              "    </tr>\n",
              "    <tr>\n",
              "      <th>52</th>\n",
              "      <td>5d60098a653a331687083238</td>\n",
              "      <td>5e830a6ca3258347b42f23f6</td>\n",
              "      <td>3</td>\n",
              "    </tr>\n",
              "    <tr>\n",
              "      <th>321</th>\n",
              "      <td>5d610ae1653a331687083239</td>\n",
              "      <td>5eb159a610426255a7aaa015</td>\n",
              "      <td>2</td>\n",
              "    </tr>\n",
              "    <tr>\n",
              "      <th>48</th>\n",
              "      <td>5d60098a653a331687083238</td>\n",
              "      <td>5e82390ea3258347b42f2369</td>\n",
              "      <td>2</td>\n",
              "    </tr>\n",
              "  </tbody>\n",
              "</table>\n",
              "</div>"
            ],
            "text/plain": [
              "                      user_id                   post_id  visits\n",
              "442  5d7c994d5720533e15c3b1e9  5eb2c11210426255a7aaa052       5\n",
              "801  5e1ef04c2a37d20505da2b8b  5eb15a9810426255a7aaa019       3\n",
              "52   5d60098a653a331687083238  5e830a6ca3258347b42f23f6       3\n",
              "321  5d610ae1653a331687083239  5eb159a610426255a7aaa015       2\n",
              "48   5d60098a653a331687083238  5e82390ea3258347b42f2369       2"
            ]
          },
          "metadata": {
            "tags": []
          },
          "execution_count": 402
        }
      ]
    },
    {
      "cell_type": "code",
      "metadata": {
        "colab": {
          "base_uri": "https://localhost:8080/"
        },
        "id": "mJZ3pMAXvhrC",
        "outputId": "b6c34009-57a3-45fc-a263-e8dd5597f514"
      },
      "source": [
        "views.shape"
      ],
      "execution_count": null,
      "outputs": [
        {
          "output_type": "execute_result",
          "data": {
            "text/plain": [
              "(1397, 3)"
            ]
          },
          "metadata": {
            "tags": []
          },
          "execution_count": 403
        }
      ]
    },
    {
      "cell_type": "markdown",
      "metadata": {
        "id": "5h0bju50g-l9"
      },
      "source": [
        "**Loading posts.csv file**"
      ]
    },
    {
      "cell_type": "code",
      "metadata": {
        "id": "Hr-yEqTQA8Ps",
        "colab": {
          "base_uri": "https://localhost:8080/",
          "height": 206
        },
        "outputId": "fc2e616a-d893-4786-b1c6-43f60050b5fb"
      },
      "source": [
        "posts = pd.read_csv(\"/content/drive/MyDrive/internshala_files/posts.csv\")\n",
        "posts.columns=['post_id', 'title', 'category', ' post_type']\n",
        "posts.head()"
      ],
      "execution_count": null,
      "outputs": [
        {
          "output_type": "execute_result",
          "data": {
            "text/html": [
              "<div>\n",
              "<style scoped>\n",
              "    .dataframe tbody tr th:only-of-type {\n",
              "        vertical-align: middle;\n",
              "    }\n",
              "\n",
              "    .dataframe tbody tr th {\n",
              "        vertical-align: top;\n",
              "    }\n",
              "\n",
              "    .dataframe thead th {\n",
              "        text-align: right;\n",
              "    }\n",
              "</style>\n",
              "<table border=\"1\" class=\"dataframe\">\n",
              "  <thead>\n",
              "    <tr style=\"text-align: right;\">\n",
              "      <th></th>\n",
              "      <th>post_id</th>\n",
              "      <th>title</th>\n",
              "      <th>category</th>\n",
              "      <th>post_type</th>\n",
              "    </tr>\n",
              "  </thead>\n",
              "  <tbody>\n",
              "    <tr>\n",
              "      <th>0</th>\n",
              "      <td>5d62abaa65218653a132c956</td>\n",
              "      <td>hello there</td>\n",
              "      <td>Plant Biotechnology</td>\n",
              "      <td>blog</td>\n",
              "    </tr>\n",
              "    <tr>\n",
              "      <th>1</th>\n",
              "      <td>5d6d39567fa40e1417a4931c</td>\n",
              "      <td>Ml and AI</td>\n",
              "      <td>Artificial Intelligence|Machine Learning|Infor...</td>\n",
              "      <td>blog</td>\n",
              "    </tr>\n",
              "    <tr>\n",
              "      <th>2</th>\n",
              "      <td>5d7d23315720533e15c3b1ee</td>\n",
              "      <td>What is an Operating System ?</td>\n",
              "      <td>Operating Systems</td>\n",
              "      <td>blog</td>\n",
              "    </tr>\n",
              "    <tr>\n",
              "      <th>3</th>\n",
              "      <td>5d7d405e5720533e15c3b1f3</td>\n",
              "      <td>Lord Shiva</td>\n",
              "      <td>Drawings</td>\n",
              "      <td>artwork</td>\n",
              "    </tr>\n",
              "    <tr>\n",
              "      <th>4</th>\n",
              "      <td>5d80dfbc6c53455f896e600e</td>\n",
              "      <td>How Competition law evolved?</td>\n",
              "      <td>Competition Laws</td>\n",
              "      <td>blog</td>\n",
              "    </tr>\n",
              "  </tbody>\n",
              "</table>\n",
              "</div>"
            ],
            "text/plain": [
              "                    post_id  ...  post_type\n",
              "0  5d62abaa65218653a132c956  ...       blog\n",
              "1  5d6d39567fa40e1417a4931c  ...       blog\n",
              "2  5d7d23315720533e15c3b1ee  ...       blog\n",
              "3  5d7d405e5720533e15c3b1f3  ...    artwork\n",
              "4  5d80dfbc6c53455f896e600e  ...       blog\n",
              "\n",
              "[5 rows x 4 columns]"
            ]
          },
          "metadata": {
            "tags": []
          },
          "execution_count": 404
        }
      ]
    },
    {
      "cell_type": "code",
      "metadata": {
        "colab": {
          "base_uri": "https://localhost:8080/"
        },
        "id": "mAZHtnNUF-_K",
        "outputId": "a233ec29-a9e0-4ab5-ec98-93dd0cf145bd"
      },
      "source": [
        "posts.isna().sum()"
      ],
      "execution_count": null,
      "outputs": [
        {
          "output_type": "execute_result",
          "data": {
            "text/plain": [
              "post_id       0\n",
              "title         0\n",
              "category      8\n",
              " post_type    0\n",
              "dtype: int64"
            ]
          },
          "metadata": {
            "tags": []
          },
          "execution_count": 405
        }
      ]
    },
    {
      "cell_type": "markdown",
      "metadata": {
        "id": "LJph-j8OhHDL"
      },
      "source": [
        "**--Dropping empty rows in posts**"
      ]
    },
    {
      "cell_type": "code",
      "metadata": {
        "id": "Ogf82OZ8fYKB"
      },
      "source": [
        "posts = posts.dropna()"
      ],
      "execution_count": null,
      "outputs": []
    },
    {
      "cell_type": "markdown",
      "metadata": {
        "id": "llu3s4XCgqWX"
      },
      "source": [
        "**Checking whether id's of posts are unique**"
      ]
    },
    {
      "cell_type": "code",
      "metadata": {
        "colab": {
          "base_uri": "https://localhost:8080/"
        },
        "id": "PpqyCsM6fheq",
        "outputId": "6e1e2040-b124-4c23-8847-09cdff646381"
      },
      "source": [
        "posts['post_id'].value_counts().sort_values(ascending=False).head()"
      ],
      "execution_count": null,
      "outputs": [
        {
          "output_type": "execute_result",
          "data": {
            "text/plain": [
              "5e78ae4ccfc8b713f5ac7cde    1\n",
              "5e9f3fd9a3258347b42f2e3f    1\n",
              "5e773c89cfc8b713f5ac7ac9    1\n",
              "5e37dc1aeab55d319938a720    1\n",
              "5e2d4737c85ab714a7da66d9    1\n",
              "Name: post_id, dtype: int64"
            ]
          },
          "metadata": {
            "tags": []
          },
          "execution_count": 407
        }
      ]
    },
    {
      "cell_type": "markdown",
      "metadata": {
        "id": "FOU5mv9jiO2c"
      },
      "source": [
        "**Maintain hashsets for interchangability**"
      ]
    },
    {
      "cell_type": "code",
      "metadata": {
        "id": "hAUkKMGKGCV0"
      },
      "source": [
        "id_to_title = {}\n",
        "for i in range(posts.shape[0]):\n",
        "  id_to_title[posts.iloc[i][0]]=posts.iloc[i][1]"
      ],
      "execution_count": null,
      "outputs": []
    },
    {
      "cell_type": "code",
      "metadata": {
        "colab": {
          "base_uri": "https://localhost:8080/"
        },
        "id": "cAQtVS6xcmKe",
        "outputId": "b1da4785-94b2-40ee-ed98-d03726ed049a"
      },
      "source": [
        "posts.shape"
      ],
      "execution_count": null,
      "outputs": [
        {
          "output_type": "execute_result",
          "data": {
            "text/plain": [
              "(485, 4)"
            ]
          },
          "metadata": {
            "tags": []
          },
          "execution_count": 409
        }
      ]
    },
    {
      "cell_type": "code",
      "metadata": {
        "colab": {
          "base_uri": "https://localhost:8080/"
        },
        "id": "MplS7a2xcwEc",
        "outputId": "49b67f77-e0f8-4d0f-d984-719ed50b2aae"
      },
      "source": [
        "len(id_to_title)"
      ],
      "execution_count": null,
      "outputs": [
        {
          "output_type": "execute_result",
          "data": {
            "text/plain": [
              "485"
            ]
          },
          "metadata": {
            "tags": []
          },
          "execution_count": 410
        }
      ]
    },
    {
      "cell_type": "markdown",
      "metadata": {
        "id": "N9SPrXKXihAP"
      },
      "source": [
        "**Merge posts and views dataframe on post_id**"
      ]
    },
    {
      "cell_type": "code",
      "metadata": {
        "colab": {
          "base_uri": "https://localhost:8080/",
          "height": 241
        },
        "id": "uYEH3TsWEeZO",
        "outputId": "d0035f3c-0c60-4aa9-f0db-e226d803616b"
      },
      "source": [
        "df = pd.merge(views,posts,on='post_id')\n",
        "df.sort_values('visits',ascending=False).head()"
      ],
      "execution_count": null,
      "outputs": [
        {
          "output_type": "execute_result",
          "data": {
            "text/html": [
              "<div>\n",
              "<style scoped>\n",
              "    .dataframe tbody tr th:only-of-type {\n",
              "        vertical-align: middle;\n",
              "    }\n",
              "\n",
              "    .dataframe tbody tr th {\n",
              "        vertical-align: top;\n",
              "    }\n",
              "\n",
              "    .dataframe thead th {\n",
              "        text-align: right;\n",
              "    }\n",
              "</style>\n",
              "<table border=\"1\" class=\"dataframe\">\n",
              "  <thead>\n",
              "    <tr style=\"text-align: right;\">\n",
              "      <th></th>\n",
              "      <th>user_id</th>\n",
              "      <th>post_id</th>\n",
              "      <th>visits</th>\n",
              "      <th>title</th>\n",
              "      <th>category</th>\n",
              "      <th>post_type</th>\n",
              "    </tr>\n",
              "  </thead>\n",
              "  <tbody>\n",
              "    <tr>\n",
              "      <th>462</th>\n",
              "      <td>5d7c994d5720533e15c3b1e9</td>\n",
              "      <td>5eb2c11210426255a7aaa052</td>\n",
              "      <td>5</td>\n",
              "      <td>Gangster Style</td>\n",
              "      <td>Drawings</td>\n",
              "      <td>artwork</td>\n",
              "    </tr>\n",
              "    <tr>\n",
              "      <th>456</th>\n",
              "      <td>5e1ef04c2a37d20505da2b8b</td>\n",
              "      <td>5eb15a9810426255a7aaa019</td>\n",
              "      <td>3</td>\n",
              "      <td>MOSAIC ART</td>\n",
              "      <td>Craft|Mixed Media|Conceptual|Mosaic painting|2...</td>\n",
              "      <td>artwork</td>\n",
              "    </tr>\n",
              "    <tr>\n",
              "      <th>129</th>\n",
              "      <td>5d60098a653a331687083238</td>\n",
              "      <td>5e830a6ca3258347b42f23f6</td>\n",
              "      <td>3</td>\n",
              "      <td>Dog❤️</td>\n",
              "      <td>Photography</td>\n",
              "      <td>artwork</td>\n",
              "    </tr>\n",
              "    <tr>\n",
              "      <th>933</th>\n",
              "      <td>5e1ef04c2a37d20505da2b8b</td>\n",
              "      <td>5eb159a610426255a7aaa015</td>\n",
              "      <td>2</td>\n",
              "      <td>PRINCIPLES OF DESIGN (RHYTHM)</td>\n",
              "      <td>Craft|Drawings|Conceptual|2D Composition</td>\n",
              "      <td>artwork</td>\n",
              "    </tr>\n",
              "    <tr>\n",
              "      <th>225</th>\n",
              "      <td>5e1ef04c2a37d20505da2b8b</td>\n",
              "      <td>5e948fdfa3258347b42f28ca</td>\n",
              "      <td>2</td>\n",
              "      <td>monument</td>\n",
              "      <td>Photography</td>\n",
              "      <td>artwork</td>\n",
              "    </tr>\n",
              "  </tbody>\n",
              "</table>\n",
              "</div>"
            ],
            "text/plain": [
              "                      user_id  ...  post_type\n",
              "462  5d7c994d5720533e15c3b1e9  ...    artwork\n",
              "456  5e1ef04c2a37d20505da2b8b  ...    artwork\n",
              "129  5d60098a653a331687083238  ...    artwork\n",
              "933  5e1ef04c2a37d20505da2b8b  ...    artwork\n",
              "225  5e1ef04c2a37d20505da2b8b  ...    artwork\n",
              "\n",
              "[5 rows x 6 columns]"
            ]
          },
          "metadata": {
            "tags": []
          },
          "execution_count": 411
        }
      ]
    },
    {
      "cell_type": "markdown",
      "metadata": {
        "id": "Pc_Fgs70rV73"
      },
      "source": [
        "**Number of users who viewed atleast one post**"
      ]
    },
    {
      "cell_type": "code",
      "metadata": {
        "colab": {
          "base_uri": "https://localhost:8080/"
        },
        "id": "y1CclOzjrL2F",
        "outputId": "a76f86c6-8bfe-450d-d0a4-dbf08be0e7c7"
      },
      "source": [
        "df['user_id'].unique().shape"
      ],
      "execution_count": null,
      "outputs": [
        {
          "output_type": "execute_result",
          "data": {
            "text/plain": [
              "(118,)"
            ]
          },
          "metadata": {
            "tags": []
          },
          "execution_count": 412
        }
      ]
    },
    {
      "cell_type": "markdown",
      "metadata": {
        "id": "xc6-GuOsrhiK"
      },
      "source": [
        "**Number of posts which are viewed by atleast one user**"
      ]
    },
    {
      "cell_type": "code",
      "metadata": {
        "colab": {
          "base_uri": "https://localhost:8080/"
        },
        "id": "WoaXkNeArc8P",
        "outputId": "1f0078a5-5fc3-4221-89b5-8f6d2e609fa1"
      },
      "source": [
        "df['post_id'].unique().shape"
      ],
      "execution_count": null,
      "outputs": [
        {
          "output_type": "execute_result",
          "data": {
            "text/plain": [
              "(485,)"
            ]
          },
          "metadata": {
            "tags": []
          },
          "execution_count": 413
        }
      ]
    },
    {
      "cell_type": "code",
      "metadata": {
        "colab": {
          "base_uri": "https://localhost:8080/"
        },
        "id": "-7u268AIOwMC",
        "outputId": "2c93f432-d598-4ced-cb1b-099096dadc88"
      },
      "source": [
        "df.isna().sum() "
      ],
      "execution_count": null,
      "outputs": [
        {
          "output_type": "execute_result",
          "data": {
            "text/plain": [
              "user_id       0\n",
              "post_id       0\n",
              "visits        0\n",
              "title         0\n",
              "category      0\n",
              " post_type    0\n",
              "dtype: int64"
            ]
          },
          "metadata": {
            "tags": []
          },
          "execution_count": 414
        }
      ]
    },
    {
      "cell_type": "code",
      "metadata": {
        "colab": {
          "base_uri": "https://localhost:8080/"
        },
        "id": "3KDVdLFBFQA8",
        "outputId": "3ff3ad46-6ff2-4b34-9cdb-75298fa217cc"
      },
      "source": [
        "df.columns"
      ],
      "execution_count": null,
      "outputs": [
        {
          "output_type": "execute_result",
          "data": {
            "text/plain": [
              "Index(['user_id', 'post_id', 'visits', 'title', 'category', ' post_type'], dtype='object')"
            ]
          },
          "metadata": {
            "tags": []
          },
          "execution_count": 415
        }
      ]
    },
    {
      "cell_type": "markdown",
      "metadata": {
        "id": "f3gPFCSvivSk"
      },
      "source": [
        "**Total views of each post**"
      ]
    },
    {
      "cell_type": "code",
      "metadata": {
        "colab": {
          "base_uri": "https://localhost:8080/",
          "height": 237
        },
        "id": "Ma9ScEcqPF_N",
        "outputId": "d4b2be5a-eb57-43da-f74f-9a53af792cd2"
      },
      "source": [
        "# Number of persons visited for each post\n",
        "df1 = pd.DataFrame(df.groupby(['post_id','title'])[\"visits\"].sum())\n",
        "df1.columns=[\"total_views\"]\n",
        "df1.sort_values('total_views',ascending=False).head()"
      ],
      "execution_count": null,
      "outputs": [
        {
          "output_type": "execute_result",
          "data": {
            "text/html": [
              "<div>\n",
              "<style scoped>\n",
              "    .dataframe tbody tr th:only-of-type {\n",
              "        vertical-align: middle;\n",
              "    }\n",
              "\n",
              "    .dataframe tbody tr th {\n",
              "        vertical-align: top;\n",
              "    }\n",
              "\n",
              "    .dataframe thead th {\n",
              "        text-align: right;\n",
              "    }\n",
              "</style>\n",
              "<table border=\"1\" class=\"dataframe\">\n",
              "  <thead>\n",
              "    <tr style=\"text-align: right;\">\n",
              "      <th></th>\n",
              "      <th></th>\n",
              "      <th>total_views</th>\n",
              "    </tr>\n",
              "    <tr>\n",
              "      <th>post_id</th>\n",
              "      <th>title</th>\n",
              "      <th></th>\n",
              "    </tr>\n",
              "  </thead>\n",
              "  <tbody>\n",
              "    <tr>\n",
              "      <th>5ec1fd0974f7660d73aa0fd5</th>\n",
              "      <th>Daaku</th>\n",
              "      <td>18</td>\n",
              "    </tr>\n",
              "    <tr>\n",
              "      <th>5ecd5d417023451e662235c5</th>\n",
              "      <th>Machine Learning”&amp;“Operations\" (MlOps)</th>\n",
              "      <td>16</td>\n",
              "    </tr>\n",
              "    <tr>\n",
              "      <th>5ecc1d4eeaff6b0c3a58a565</th>\n",
              "      <th>Faith in yourself</th>\n",
              "      <td>14</td>\n",
              "    </tr>\n",
              "    <tr>\n",
              "      <th>5eb2c11210426255a7aaa052</th>\n",
              "      <th>Gangster Style</th>\n",
              "      <td>14</td>\n",
              "    </tr>\n",
              "    <tr>\n",
              "      <th>5ecce8a5eaff6b0c3a58a5e9</th>\n",
              "      <th>The Waves Have Stood Still</th>\n",
              "      <td>14</td>\n",
              "    </tr>\n",
              "  </tbody>\n",
              "</table>\n",
              "</div>"
            ],
            "text/plain": [
              "                                                                 total_views\n",
              "post_id                  title                                              \n",
              "5ec1fd0974f7660d73aa0fd5 Daaku                                            18\n",
              "5ecd5d417023451e662235c5 Machine Learning”&“Operations\" (MlOps)           16\n",
              "5ecc1d4eeaff6b0c3a58a565 Faith in yourself                                14\n",
              "5eb2c11210426255a7aaa052 Gangster Style                                   14\n",
              "5ecce8a5eaff6b0c3a58a5e9 The Waves Have Stood Still                       14"
            ]
          },
          "metadata": {
            "tags": []
          },
          "execution_count": 416
        }
      ]
    },
    {
      "cell_type": "code",
      "metadata": {
        "colab": {
          "base_uri": "https://localhost:8080/",
          "height": 300
        },
        "id": "bQ-osoHWo_o_",
        "outputId": "475946d1-3731-4910-9295-5287c6cef3c6"
      },
      "source": [
        "import matplotlib.pyplot as plt\n",
        "df1['total_views'].hist()\n",
        "plt.xlabel('No.of views')\n",
        "plt.ylabel('No.of posts')"
      ],
      "execution_count": null,
      "outputs": [
        {
          "output_type": "execute_result",
          "data": {
            "text/plain": [
              "Text(0, 0.5, 'No.of posts')"
            ]
          },
          "metadata": {
            "tags": []
          },
          "execution_count": 417
        },
        {
          "output_type": "display_data",
          "data": {
            "image/png": "[encoded data removed]",
            "text/plain": [
              "<Figure size 432x288 with 1 Axes>"
            ]
          },
          "metadata": {
            "tags": [],
            "needs_background": "light"
          }
        }
      ]
    },
    {
      "cell_type": "markdown",
      "metadata": {
        "id": "5_6ouGaqq-3d"
      },
      "source": [
        "**Total visits of each user**"
      ]
    },
    {
      "cell_type": "code",
      "metadata": {
        "colab": {
          "base_uri": "https://localhost:8080/",
          "height": 237
        },
        "id": "xyxnENedp4nF",
        "outputId": "dc014b2e-9fb2-41e7-e421-e0d2c517cb50"
      },
      "source": [
        "# Number of posts viewed by each user\n",
        "df2 = pd.DataFrame(df.groupby(['user_id'])[\"visits\"].sum())\n",
        "df2.columns=[\"total_visits\"]\n",
        "df2.sort_values('total_visits',ascending=False).head()"
      ],
      "execution_count": null,
      "outputs": [
        {
          "output_type": "execute_result",
          "data": {
            "text/html": [
              "<div>\n",
              "<style scoped>\n",
              "    .dataframe tbody tr th:only-of-type {\n",
              "        vertical-align: middle;\n",
              "    }\n",
              "\n",
              "    .dataframe tbody tr th {\n",
              "        vertical-align: top;\n",
              "    }\n",
              "\n",
              "    .dataframe thead th {\n",
              "        text-align: right;\n",
              "    }\n",
              "</style>\n",
              "<table border=\"1\" class=\"dataframe\">\n",
              "  <thead>\n",
              "    <tr style=\"text-align: right;\">\n",
              "      <th></th>\n",
              "      <th>total_visits</th>\n",
              "    </tr>\n",
              "    <tr>\n",
              "      <th>user_id</th>\n",
              "      <th></th>\n",
              "    </tr>\n",
              "  </thead>\n",
              "  <tbody>\n",
              "    <tr>\n",
              "      <th>5d60098a653a331687083238</th>\n",
              "      <td>225</td>\n",
              "    </tr>\n",
              "    <tr>\n",
              "      <th>5d610ae1653a331687083239</th>\n",
              "      <td>135</td>\n",
              "    </tr>\n",
              "    <tr>\n",
              "      <th>5d7c994d5720533e15c3b1e9</th>\n",
              "      <td>93</td>\n",
              "    </tr>\n",
              "    <tr>\n",
              "      <th>5df20f1fee4bb5252b4f5351</th>\n",
              "      <td>81</td>\n",
              "    </tr>\n",
              "    <tr>\n",
              "      <th>5deeef6142a8854bf6eabab9</th>\n",
              "      <td>67</td>\n",
              "    </tr>\n",
              "  </tbody>\n",
              "</table>\n",
              "</div>"
            ],
            "text/plain": [
              "                          total_visits\n",
              "user_id                               \n",
              "5d60098a653a331687083238           225\n",
              "5d610ae1653a331687083239           135\n",
              "5d7c994d5720533e15c3b1e9            93\n",
              "5df20f1fee4bb5252b4f5351            81\n",
              "5deeef6142a8854bf6eabab9            67"
            ]
          },
          "metadata": {
            "tags": []
          },
          "execution_count": 418
        }
      ]
    },
    {
      "cell_type": "code",
      "metadata": {
        "colab": {
          "base_uri": "https://localhost:8080/",
          "height": 298
        },
        "id": "KWx1aVcGqfPe",
        "outputId": "57a04675-9c34-4912-dc64-31e62cee6be3"
      },
      "source": [
        "df2['total_visits'].hist(bins=20)\n",
        "plt.xlabel('No.of visits')\n",
        "plt.ylabel('No.of users')"
      ],
      "execution_count": null,
      "outputs": [
        {
          "output_type": "execute_result",
          "data": {
            "text/plain": [
              "Text(0, 0.5, 'No.of users')"
            ]
          },
          "metadata": {
            "tags": []
          },
          "execution_count": 419
        },
        {
          "output_type": "display_data",
          "data": {
            "image/png": "[encoded data removed]",
            "text/plain": [
              "<Figure size 432x288 with 1 Axes>"
            ]
          },
          "metadata": {
            "tags": [],
            "needs_background": "light"
          }
        }
      ]
    },
    {
      "cell_type": "markdown",
      "metadata": {
        "id": "NWEfufs7Z-RC"
      },
      "source": [
        " **Popular posts**"
      ]
    },
    {
      "cell_type": "code",
      "metadata": {
        "colab": {
          "base_uri": "https://localhost:8080/",
          "height": 314
        },
        "id": "Mh56q41NZL0m",
        "outputId": "9560f30a-309d-4818-d659-f49b17d61983"
      },
      "source": [
        "top_posts = [i[1] for i in np.array(df1.sort_values('total_views',ascending=False).index)[0:7]]\n",
        "top_views = df1['total_views'].sort_values(ascending=False).values[0:7]\n",
        "plt.barh(top_posts,top_views,align='center',color='skyblue')\n",
        "plt.xlabel('Popularity')\n",
        "plt.title('Popular posts')"
      ],
      "execution_count": null,
      "outputs": [
        {
          "output_type": "execute_result",
          "data": {
            "text/plain": [
              "Text(0.5, 1.0, 'Popular posts')"
            ]
          },
          "metadata": {
            "tags": []
          },
          "execution_count": 420
        },
        {
          "output_type": "display_data",
          "data": {
            "image/png": "[encoded data removed]",
            "text/plain": [
              "<Figure size 432x288 with 1 Axes>"
            ]
          },
          "metadata": {
            "tags": [],
            "needs_background": "light"
          }
        }
      ]
    },
    {
      "cell_type": "markdown",
      "metadata": {
        "id": "kEpZk2SbjFIi"
      },
      "source": [
        "# **Recommending similar posts for a given post**"
      ]
    },
    {
      "cell_type": "markdown",
      "metadata": {
        "id": "azzTSbJ1lJte"
      },
      "source": [
        "## **1. By comparing correlation**"
      ]
    },
    {
      "cell_type": "markdown",
      "metadata": {
        "id": "OAZkfaghi0iJ"
      },
      "source": [
        "**Create a user-item interaction matrix for users and posts**"
      ]
    },
    {
      "cell_type": "code",
      "metadata": {
        "colab": {
          "base_uri": "https://localhost:8080/",
          "height": 287
        },
        "id": "HQk1rkJBcujf",
        "outputId": "1dfb9e6f-847c-46e6-d7a1-045736c28693"
      },
      "source": [
        "interaction_mat = df.pivot_table(index='user_id',columns='post_id',values='visits')\n",
        "interaction_mat = interaction_mat.fillna(0)\n",
        "interaction_mat.head()"
      ],
      "execution_count": null,
      "outputs": [
        {
          "output_type": "execute_result",
          "data": {
            "text/html": [
              "<div>\n",
              "<style scoped>\n",
              "    .dataframe tbody tr th:only-of-type {\n",
              "        vertical-align: middle;\n",
              "    }\n",
              "\n",
              "    .dataframe tbody tr th {\n",
              "        vertical-align: top;\n",
              "    }\n",
              "\n",
              "    .dataframe thead th {\n",
              "        text-align: right;\n",
              "    }\n",
              "</style>\n",
              "<table border=\"1\" class=\"dataframe\">\n",
              "  <thead>\n",
              "    <tr style=\"text-align: right;\">\n",
              "      <th>post_id</th>\n",
              "      <th>5d62abaa65218653a132c956</th>\n",
              "      <th>5d6d39567fa40e1417a4931c</th>\n",
              "      <th>5d7d23315720533e15c3b1ee</th>\n",
              "      <th>5d7d405e5720533e15c3b1f3</th>\n",
              "      <th>5d80dfbc6c53455f896e600e</th>\n",
              "      <th>5d80e7c16c53455f896e6014</th>\n",
              "      <th>5d80ecfd6c53455f896e601a</th>\n",
              "      <th>5d81323a6c53455f896e6044</th>\n",
              "      <th>5d9b3514979d5962253c2f90</th>\n",
              "      <th>5d9b950768671220a1b2b153</th>\n",
              "      <th>5da745b6019399436815c4cd</th>\n",
              "      <th>5dada695610ba040fbfdf585</th>\n",
              "      <th>5dada734610ba040fbfdf588</th>\n",
              "      <th>5dada798610ba040fbfdf58b</th>\n",
              "      <th>5dada82f610ba040fbfdf58e</th>\n",
              "      <th>5dada89b610ba040fbfdf591</th>\n",
              "      <th>5dadf6ae610ba040fbfdf5c8</th>\n",
              "      <th>5db2a7d099cbb90e4339c734</th>\n",
              "      <th>5db2b91a99cbb90e4339c749</th>\n",
              "      <th>5dbc622a99cbb90e4339c7f6</th>\n",
              "      <th>5dbc631f99cbb90e4339c7fd</th>\n",
              "      <th>5dc065ca24b883670268772f</th>\n",
              "      <th>5dd1751db802e41ed198b680</th>\n",
              "      <th>5dde6a91369b28584ecca156</th>\n",
              "      <th>5de7971b8eab6401affbb137</th>\n",
              "      <th>5de8d73249e8203ff9219a74</th>\n",
              "      <th>5dea816a42a8854bf6eaba89</th>\n",
              "      <th>5dee9b5042a8854bf6eabaaf</th>\n",
              "      <th>5df64ad1cc709107827fb3dd</th>\n",
              "      <th>5e04fb252a37d20505da2a2b</th>\n",
              "      <th>5e1029f22a37d20505da2a79</th>\n",
              "      <th>5e27002d2a37d20505da2c13</th>\n",
              "      <th>5e281cf0025ae20886de2050</th>\n",
              "      <th>5e2867f6025ae20886de205a</th>\n",
              "      <th>5e294fd1c85ab714a7da6643</th>\n",
              "      <th>5e2d36ebc85ab714a7da66d1</th>\n",
              "      <th>5e2d3fbfc85ab714a7da66d5</th>\n",
              "      <th>5e2d447dc85ab714a7da66d7</th>\n",
              "      <th>5e2d4737c85ab714a7da66d9</th>\n",
              "      <th>5e2d4d63c85ab714a7da66db</th>\n",
              "      <th>...</th>\n",
              "      <th>5ecd5d417023451e662235c5</th>\n",
              "      <th>5ecd6ba47023451e66223604</th>\n",
              "      <th>5ecdecc67023451e66223765</th>\n",
              "      <th>5ecf23b87023451e66223944</th>\n",
              "      <th>5ecf818376027d35905cbf03</th>\n",
              "      <th>5ecf96e876027d35905cbf46</th>\n",
              "      <th>5ecfa0ca76027d35905cbf57</th>\n",
              "      <th>5ecfafcc76027d35905cbfb0</th>\n",
              "      <th>5ecfb35c76027d35905cbfbc</th>\n",
              "      <th>5ecfffb976027d35905cc0e9</th>\n",
              "      <th>5ed0007a76027d35905cc0ea</th>\n",
              "      <th>5ed09ad076027d35905cc15f</th>\n",
              "      <th>5ed0e20776027d35905cc2fe</th>\n",
              "      <th>5ed13d2876027d35905cc4c2</th>\n",
              "      <th>5ed141aa76027d35905cc4c9</th>\n",
              "      <th>5ed175f176027d35905cc554</th>\n",
              "      <th>5ed175f476027d35905cc562</th>\n",
              "      <th>5ed1ff0276027d35905cc60d</th>\n",
              "      <th>5ed229d976027d35905cc666</th>\n",
              "      <th>5ed2378276027d35905cc6b5</th>\n",
              "      <th>5ed237d676027d35905cc6bd</th>\n",
              "      <th>5ed2383776027d35905cc6ca</th>\n",
              "      <th>5ed238d376027d35905cc6e5</th>\n",
              "      <th>5ed23a6376027d35905cc73b</th>\n",
              "      <th>5ed23b0776027d35905cc746</th>\n",
              "      <th>5ed23b6276027d35905cc74f</th>\n",
              "      <th>5ed23bb876027d35905cc759</th>\n",
              "      <th>5ed23c1876027d35905cc761</th>\n",
              "      <th>5ed23c8676027d35905cc780</th>\n",
              "      <th>5ed23cb876027d35905cc788</th>\n",
              "      <th>5ed23cf876027d35905cc790</th>\n",
              "      <th>5ed23d4276027d35905cc798</th>\n",
              "      <th>5ed23e4d76027d35905cc7b8</th>\n",
              "      <th>5ed2502b76027d35905cc7db</th>\n",
              "      <th>5ed3476576027d35905cca1d</th>\n",
              "      <th>5ed3791976027d35905ccab6</th>\n",
              "      <th>5ed3820f76027d35905ccac8</th>\n",
              "      <th>5ed3ef4cbd514d602c1530f2</th>\n",
              "      <th>5ed415c6bd514d602c15312d</th>\n",
              "      <th>5ed4cbadbd514d602c1531a6</th>\n",
              "    </tr>\n",
              "    <tr>\n",
              "      <th>user_id</th>\n",
              "      <th></th>\n",
              "      <th></th>\n",
              "      <th></th>\n",
              "      <th></th>\n",
              "      <th></th>\n",
              "      <th></th>\n",
              "      <th></th>\n",
              "      <th></th>\n",
              "      <th></th>\n",
              "      <th></th>\n",
              "      <th></th>\n",
              "      <th></th>\n",
              "      <th></th>\n",
              "      <th></th>\n",
              "      <th></th>\n",
              "      <th></th>\n",
              "      <th></th>\n",
              "      <th></th>\n",
              "      <th></th>\n",
              "      <th></th>\n",
              "      <th></th>\n",
              "      <th></th>\n",
              "      <th></th>\n",
              "      <th></th>\n",
              "      <th></th>\n",
              "      <th></th>\n",
              "      <th></th>\n",
              "      <th></th>\n",
              "      <th></th>\n",
              "      <th></th>\n",
              "      <th></th>\n",
              "      <th></th>\n",
              "      <th></th>\n",
              "      <th></th>\n",
              "      <th></th>\n",
              "      <th></th>\n",
              "      <th></th>\n",
              "      <th></th>\n",
              "      <th></th>\n",
              "      <th></th>\n",
              "      <th></th>\n",
              "      <th></th>\n",
              "      <th></th>\n",
              "      <th></th>\n",
              "      <th></th>\n",
              "      <th></th>\n",
              "      <th></th>\n",
              "      <th></th>\n",
              "      <th></th>\n",
              "      <th></th>\n",
              "      <th></th>\n",
              "      <th></th>\n",
              "      <th></th>\n",
              "      <th></th>\n",
              "      <th></th>\n",
              "      <th></th>\n",
              "      <th></th>\n",
              "      <th></th>\n",
              "      <th></th>\n",
              "      <th></th>\n",
              "      <th></th>\n",
              "      <th></th>\n",
              "      <th></th>\n",
              "      <th></th>\n",
              "      <th></th>\n",
              "      <th></th>\n",
              "      <th></th>\n",
              "      <th></th>\n",
              "      <th></th>\n",
              "      <th></th>\n",
              "      <th></th>\n",
              "      <th></th>\n",
              "      <th></th>\n",
              "      <th></th>\n",
              "      <th></th>\n",
              "      <th></th>\n",
              "      <th></th>\n",
              "      <th></th>\n",
              "      <th></th>\n",
              "      <th></th>\n",
              "      <th></th>\n",
              "    </tr>\n",
              "  </thead>\n",
              "  <tbody>\n",
              "    <tr>\n",
              "      <th>5d60098a653a331687083238</th>\n",
              "      <td>1.0</td>\n",
              "      <td>1.0</td>\n",
              "      <td>0.0</td>\n",
              "      <td>0.0</td>\n",
              "      <td>0.0</td>\n",
              "      <td>0.0</td>\n",
              "      <td>0.0</td>\n",
              "      <td>0.0</td>\n",
              "      <td>0.0</td>\n",
              "      <td>0.0</td>\n",
              "      <td>0.0</td>\n",
              "      <td>0.0</td>\n",
              "      <td>0.0</td>\n",
              "      <td>0.0</td>\n",
              "      <td>0.0</td>\n",
              "      <td>0.0</td>\n",
              "      <td>0.0</td>\n",
              "      <td>0.0</td>\n",
              "      <td>0.0</td>\n",
              "      <td>0.0</td>\n",
              "      <td>1.0</td>\n",
              "      <td>1.0</td>\n",
              "      <td>0.0</td>\n",
              "      <td>0.0</td>\n",
              "      <td>0.0</td>\n",
              "      <td>0.0</td>\n",
              "      <td>0.0</td>\n",
              "      <td>0.0</td>\n",
              "      <td>0.0</td>\n",
              "      <td>0.0</td>\n",
              "      <td>1.0</td>\n",
              "      <td>0.0</td>\n",
              "      <td>0.0</td>\n",
              "      <td>0.0</td>\n",
              "      <td>1.0</td>\n",
              "      <td>1.0</td>\n",
              "      <td>0.0</td>\n",
              "      <td>0.0</td>\n",
              "      <td>0.0</td>\n",
              "      <td>0.0</td>\n",
              "      <td>...</td>\n",
              "      <td>1.0</td>\n",
              "      <td>0.0</td>\n",
              "      <td>1.0</td>\n",
              "      <td>1.0</td>\n",
              "      <td>1.0</td>\n",
              "      <td>1.0</td>\n",
              "      <td>1.0</td>\n",
              "      <td>1.0</td>\n",
              "      <td>0.0</td>\n",
              "      <td>1.0</td>\n",
              "      <td>0.0</td>\n",
              "      <td>1.0</td>\n",
              "      <td>1.0</td>\n",
              "      <td>1.0</td>\n",
              "      <td>0.0</td>\n",
              "      <td>0.0</td>\n",
              "      <td>0.0</td>\n",
              "      <td>1.0</td>\n",
              "      <td>0.0</td>\n",
              "      <td>0.0</td>\n",
              "      <td>0.0</td>\n",
              "      <td>0.0</td>\n",
              "      <td>0.0</td>\n",
              "      <td>0.0</td>\n",
              "      <td>0.0</td>\n",
              "      <td>0.0</td>\n",
              "      <td>0.0</td>\n",
              "      <td>0.0</td>\n",
              "      <td>0.0</td>\n",
              "      <td>0.0</td>\n",
              "      <td>0.0</td>\n",
              "      <td>0.0</td>\n",
              "      <td>0.0</td>\n",
              "      <td>0.0</td>\n",
              "      <td>0.0</td>\n",
              "      <td>0.0</td>\n",
              "      <td>1.0</td>\n",
              "      <td>0.0</td>\n",
              "      <td>0.0</td>\n",
              "      <td>0.0</td>\n",
              "    </tr>\n",
              "    <tr>\n",
              "      <th>5d610ae1653a331687083239</th>\n",
              "      <td>0.0</td>\n",
              "      <td>0.0</td>\n",
              "      <td>0.0</td>\n",
              "      <td>0.0</td>\n",
              "      <td>1.0</td>\n",
              "      <td>0.0</td>\n",
              "      <td>0.0</td>\n",
              "      <td>0.0</td>\n",
              "      <td>0.0</td>\n",
              "      <td>0.0</td>\n",
              "      <td>0.0</td>\n",
              "      <td>0.0</td>\n",
              "      <td>0.0</td>\n",
              "      <td>0.0</td>\n",
              "      <td>0.0</td>\n",
              "      <td>0.0</td>\n",
              "      <td>0.0</td>\n",
              "      <td>0.0</td>\n",
              "      <td>1.0</td>\n",
              "      <td>0.0</td>\n",
              "      <td>0.0</td>\n",
              "      <td>0.0</td>\n",
              "      <td>0.0</td>\n",
              "      <td>0.0</td>\n",
              "      <td>0.0</td>\n",
              "      <td>0.0</td>\n",
              "      <td>0.0</td>\n",
              "      <td>0.0</td>\n",
              "      <td>0.0</td>\n",
              "      <td>0.0</td>\n",
              "      <td>0.0</td>\n",
              "      <td>0.0</td>\n",
              "      <td>0.0</td>\n",
              "      <td>0.0</td>\n",
              "      <td>0.0</td>\n",
              "      <td>1.0</td>\n",
              "      <td>1.0</td>\n",
              "      <td>1.0</td>\n",
              "      <td>2.0</td>\n",
              "      <td>0.0</td>\n",
              "      <td>...</td>\n",
              "      <td>1.0</td>\n",
              "      <td>1.0</td>\n",
              "      <td>0.0</td>\n",
              "      <td>0.0</td>\n",
              "      <td>0.0</td>\n",
              "      <td>0.0</td>\n",
              "      <td>0.0</td>\n",
              "      <td>0.0</td>\n",
              "      <td>0.0</td>\n",
              "      <td>0.0</td>\n",
              "      <td>0.0</td>\n",
              "      <td>0.0</td>\n",
              "      <td>0.0</td>\n",
              "      <td>1.0</td>\n",
              "      <td>0.0</td>\n",
              "      <td>0.0</td>\n",
              "      <td>0.0</td>\n",
              "      <td>0.0</td>\n",
              "      <td>0.0</td>\n",
              "      <td>0.0</td>\n",
              "      <td>0.0</td>\n",
              "      <td>0.0</td>\n",
              "      <td>0.0</td>\n",
              "      <td>0.0</td>\n",
              "      <td>0.0</td>\n",
              "      <td>0.0</td>\n",
              "      <td>0.0</td>\n",
              "      <td>0.0</td>\n",
              "      <td>0.0</td>\n",
              "      <td>0.0</td>\n",
              "      <td>0.0</td>\n",
              "      <td>0.0</td>\n",
              "      <td>0.0</td>\n",
              "      <td>0.0</td>\n",
              "      <td>0.0</td>\n",
              "      <td>0.0</td>\n",
              "      <td>0.0</td>\n",
              "      <td>0.0</td>\n",
              "      <td>0.0</td>\n",
              "      <td>0.0</td>\n",
              "    </tr>\n",
              "    <tr>\n",
              "      <th>5d618359fc5fcf3bdd9a0910</th>\n",
              "      <td>0.0</td>\n",
              "      <td>0.0</td>\n",
              "      <td>0.0</td>\n",
              "      <td>0.0</td>\n",
              "      <td>0.0</td>\n",
              "      <td>1.0</td>\n",
              "      <td>0.0</td>\n",
              "      <td>0.0</td>\n",
              "      <td>0.0</td>\n",
              "      <td>0.0</td>\n",
              "      <td>0.0</td>\n",
              "      <td>0.0</td>\n",
              "      <td>0.0</td>\n",
              "      <td>0.0</td>\n",
              "      <td>0.0</td>\n",
              "      <td>0.0</td>\n",
              "      <td>0.0</td>\n",
              "      <td>0.0</td>\n",
              "      <td>0.0</td>\n",
              "      <td>0.0</td>\n",
              "      <td>0.0</td>\n",
              "      <td>0.0</td>\n",
              "      <td>0.0</td>\n",
              "      <td>0.0</td>\n",
              "      <td>0.0</td>\n",
              "      <td>0.0</td>\n",
              "      <td>0.0</td>\n",
              "      <td>0.0</td>\n",
              "      <td>0.0</td>\n",
              "      <td>0.0</td>\n",
              "      <td>0.0</td>\n",
              "      <td>0.0</td>\n",
              "      <td>0.0</td>\n",
              "      <td>0.0</td>\n",
              "      <td>0.0</td>\n",
              "      <td>0.0</td>\n",
              "      <td>0.0</td>\n",
              "      <td>0.0</td>\n",
              "      <td>0.0</td>\n",
              "      <td>0.0</td>\n",
              "      <td>...</td>\n",
              "      <td>0.0</td>\n",
              "      <td>1.0</td>\n",
              "      <td>0.0</td>\n",
              "      <td>0.0</td>\n",
              "      <td>1.0</td>\n",
              "      <td>0.0</td>\n",
              "      <td>1.0</td>\n",
              "      <td>0.0</td>\n",
              "      <td>0.0</td>\n",
              "      <td>0.0</td>\n",
              "      <td>0.0</td>\n",
              "      <td>1.0</td>\n",
              "      <td>0.0</td>\n",
              "      <td>0.0</td>\n",
              "      <td>1.0</td>\n",
              "      <td>1.0</td>\n",
              "      <td>0.0</td>\n",
              "      <td>1.0</td>\n",
              "      <td>0.0</td>\n",
              "      <td>0.0</td>\n",
              "      <td>0.0</td>\n",
              "      <td>0.0</td>\n",
              "      <td>0.0</td>\n",
              "      <td>0.0</td>\n",
              "      <td>0.0</td>\n",
              "      <td>0.0</td>\n",
              "      <td>0.0</td>\n",
              "      <td>0.0</td>\n",
              "      <td>0.0</td>\n",
              "      <td>0.0</td>\n",
              "      <td>0.0</td>\n",
              "      <td>0.0</td>\n",
              "      <td>0.0</td>\n",
              "      <td>0.0</td>\n",
              "      <td>0.0</td>\n",
              "      <td>0.0</td>\n",
              "      <td>0.0</td>\n",
              "      <td>0.0</td>\n",
              "      <td>0.0</td>\n",
              "      <td>0.0</td>\n",
              "    </tr>\n",
              "    <tr>\n",
              "      <th>5d6d2bb87fa40e1417a49315</th>\n",
              "      <td>0.0</td>\n",
              "      <td>0.0</td>\n",
              "      <td>0.0</td>\n",
              "      <td>0.0</td>\n",
              "      <td>0.0</td>\n",
              "      <td>0.0</td>\n",
              "      <td>0.0</td>\n",
              "      <td>0.0</td>\n",
              "      <td>0.0</td>\n",
              "      <td>0.0</td>\n",
              "      <td>0.0</td>\n",
              "      <td>0.0</td>\n",
              "      <td>0.0</td>\n",
              "      <td>0.0</td>\n",
              "      <td>0.0</td>\n",
              "      <td>0.0</td>\n",
              "      <td>0.0</td>\n",
              "      <td>0.0</td>\n",
              "      <td>0.0</td>\n",
              "      <td>0.0</td>\n",
              "      <td>0.0</td>\n",
              "      <td>0.0</td>\n",
              "      <td>0.0</td>\n",
              "      <td>0.0</td>\n",
              "      <td>0.0</td>\n",
              "      <td>0.0</td>\n",
              "      <td>0.0</td>\n",
              "      <td>0.0</td>\n",
              "      <td>0.0</td>\n",
              "      <td>0.0</td>\n",
              "      <td>0.0</td>\n",
              "      <td>0.0</td>\n",
              "      <td>0.0</td>\n",
              "      <td>0.0</td>\n",
              "      <td>0.0</td>\n",
              "      <td>0.0</td>\n",
              "      <td>0.0</td>\n",
              "      <td>0.0</td>\n",
              "      <td>0.0</td>\n",
              "      <td>0.0</td>\n",
              "      <td>...</td>\n",
              "      <td>1.0</td>\n",
              "      <td>0.0</td>\n",
              "      <td>0.0</td>\n",
              "      <td>0.0</td>\n",
              "      <td>0.0</td>\n",
              "      <td>0.0</td>\n",
              "      <td>0.0</td>\n",
              "      <td>0.0</td>\n",
              "      <td>0.0</td>\n",
              "      <td>0.0</td>\n",
              "      <td>0.0</td>\n",
              "      <td>0.0</td>\n",
              "      <td>0.0</td>\n",
              "      <td>0.0</td>\n",
              "      <td>0.0</td>\n",
              "      <td>0.0</td>\n",
              "      <td>0.0</td>\n",
              "      <td>0.0</td>\n",
              "      <td>0.0</td>\n",
              "      <td>0.0</td>\n",
              "      <td>0.0</td>\n",
              "      <td>0.0</td>\n",
              "      <td>0.0</td>\n",
              "      <td>0.0</td>\n",
              "      <td>0.0</td>\n",
              "      <td>0.0</td>\n",
              "      <td>0.0</td>\n",
              "      <td>0.0</td>\n",
              "      <td>0.0</td>\n",
              "      <td>0.0</td>\n",
              "      <td>0.0</td>\n",
              "      <td>0.0</td>\n",
              "      <td>0.0</td>\n",
              "      <td>0.0</td>\n",
              "      <td>0.0</td>\n",
              "      <td>0.0</td>\n",
              "      <td>0.0</td>\n",
              "      <td>0.0</td>\n",
              "      <td>0.0</td>\n",
              "      <td>0.0</td>\n",
              "    </tr>\n",
              "    <tr>\n",
              "      <th>5d7c994d5720533e15c3b1e9</th>\n",
              "      <td>0.0</td>\n",
              "      <td>0.0</td>\n",
              "      <td>0.0</td>\n",
              "      <td>1.0</td>\n",
              "      <td>0.0</td>\n",
              "      <td>0.0</td>\n",
              "      <td>0.0</td>\n",
              "      <td>0.0</td>\n",
              "      <td>0.0</td>\n",
              "      <td>0.0</td>\n",
              "      <td>0.0</td>\n",
              "      <td>0.0</td>\n",
              "      <td>0.0</td>\n",
              "      <td>0.0</td>\n",
              "      <td>0.0</td>\n",
              "      <td>0.0</td>\n",
              "      <td>0.0</td>\n",
              "      <td>0.0</td>\n",
              "      <td>0.0</td>\n",
              "      <td>0.0</td>\n",
              "      <td>0.0</td>\n",
              "      <td>0.0</td>\n",
              "      <td>0.0</td>\n",
              "      <td>0.0</td>\n",
              "      <td>0.0</td>\n",
              "      <td>0.0</td>\n",
              "      <td>0.0</td>\n",
              "      <td>0.0</td>\n",
              "      <td>0.0</td>\n",
              "      <td>0.0</td>\n",
              "      <td>0.0</td>\n",
              "      <td>0.0</td>\n",
              "      <td>0.0</td>\n",
              "      <td>0.0</td>\n",
              "      <td>0.0</td>\n",
              "      <td>0.0</td>\n",
              "      <td>0.0</td>\n",
              "      <td>0.0</td>\n",
              "      <td>1.0</td>\n",
              "      <td>0.0</td>\n",
              "      <td>...</td>\n",
              "      <td>1.0</td>\n",
              "      <td>1.0</td>\n",
              "      <td>0.0</td>\n",
              "      <td>1.0</td>\n",
              "      <td>0.0</td>\n",
              "      <td>1.0</td>\n",
              "      <td>0.0</td>\n",
              "      <td>1.0</td>\n",
              "      <td>1.0</td>\n",
              "      <td>0.0</td>\n",
              "      <td>0.0</td>\n",
              "      <td>0.0</td>\n",
              "      <td>1.0</td>\n",
              "      <td>1.0</td>\n",
              "      <td>0.0</td>\n",
              "      <td>0.0</td>\n",
              "      <td>0.0</td>\n",
              "      <td>1.0</td>\n",
              "      <td>0.0</td>\n",
              "      <td>0.0</td>\n",
              "      <td>0.0</td>\n",
              "      <td>0.0</td>\n",
              "      <td>0.0</td>\n",
              "      <td>0.0</td>\n",
              "      <td>0.0</td>\n",
              "      <td>0.0</td>\n",
              "      <td>0.0</td>\n",
              "      <td>0.0</td>\n",
              "      <td>0.0</td>\n",
              "      <td>1.0</td>\n",
              "      <td>0.0</td>\n",
              "      <td>0.0</td>\n",
              "      <td>0.0</td>\n",
              "      <td>0.0</td>\n",
              "      <td>0.0</td>\n",
              "      <td>0.0</td>\n",
              "      <td>0.0</td>\n",
              "      <td>0.0</td>\n",
              "      <td>0.0</td>\n",
              "      <td>0.0</td>\n",
              "    </tr>\n",
              "  </tbody>\n",
              "</table>\n",
              "<p>5 rows × 485 columns</p>\n",
              "</div>"
            ],
            "text/plain": [
              "post_id                   5d62abaa65218653a132c956  ...  5ed4cbadbd514d602c1531a6\n",
              "user_id                                             ...                          \n",
              "5d60098a653a331687083238                       1.0  ...                       0.0\n",
              "5d610ae1653a331687083239                       0.0  ...                       0.0\n",
              "5d618359fc5fcf3bdd9a0910                       0.0  ...                       0.0\n",
              "5d6d2bb87fa40e1417a49315                       0.0  ...                       0.0\n",
              "5d7c994d5720533e15c3b1e9                       0.0  ...                       0.0\n",
              "\n",
              "[5 rows x 485 columns]"
            ]
          },
          "metadata": {
            "tags": []
          },
          "execution_count": 421
        }
      ]
    },
    {
      "cell_type": "code",
      "metadata": {
        "id": "zgeZ85JWaph6"
      },
      "source": [
        "def get_postid(post_title):\n",
        "  return posts[posts['title']==post_title]['post_id'].values[0]"
      ],
      "execution_count": null,
      "outputs": []
    },
    {
      "cell_type": "code",
      "metadata": {
        "id": "YHamYq1EKYeK"
      },
      "source": [
        "def get_rec_corr(postid):\n",
        "  print(\"Title :\",id_to_title[postid])\n",
        "  postid_views = interaction_mat[postid]\n",
        "  similar_to_postid = interaction_mat.corrwith(postid_views)\n",
        "  corr_postid = pd.DataFrame(list(zip(similar_to_postid.index,similar_to_postid.values)),columns=['post_id','Correlation'])\n",
        "  corr_postid['title'] = corr_postid['post_id'].apply(lambda x: id_to_title[x])\n",
        "  return corr_postid.sort_values('Correlation',ascending=False).head(10)"
      ],
      "execution_count": null,
      "outputs": []
    },
    {
      "cell_type": "markdown",
      "metadata": {
        "id": "b7KkNF3-keIJ"
      },
      "source": [
        "**Recommending posts for a post_id**"
      ]
    },
    {
      "cell_type": "code",
      "metadata": {
        "colab": {
          "base_uri": "https://localhost:8080/",
          "height": 381
        },
        "id": "PGWQfbLKhMOs",
        "outputId": "43951f99-85e9-48f0-8463-5c46220618a7"
      },
      "source": [
        "# If you want to recommend posts by giving post name uncomment following 2 lines\n",
        "# and comment third line\n",
        "#post_title = 'Operators In PHP'\n",
        "#postid = get_postid(post_title)\n",
        "\n",
        "postid = '5e41bd7deab55d319938a839'\n",
        "get_rec_corr(postid)"
      ],
      "execution_count": null,
      "outputs": [
        {
          "output_type": "stream",
          "text": [
            "Title : Operators In PHP\n"
          ],
          "name": "stdout"
        },
        {
          "output_type": "execute_result",
          "data": {
            "text/html": [
              "<div>\n",
              "<style scoped>\n",
              "    .dataframe tbody tr th:only-of-type {\n",
              "        vertical-align: middle;\n",
              "    }\n",
              "\n",
              "    .dataframe tbody tr th {\n",
              "        vertical-align: top;\n",
              "    }\n",
              "\n",
              "    .dataframe thead th {\n",
              "        text-align: right;\n",
              "    }\n",
              "</style>\n",
              "<table border=\"1\" class=\"dataframe\">\n",
              "  <thead>\n",
              "    <tr style=\"text-align: right;\">\n",
              "      <th></th>\n",
              "      <th>post_id</th>\n",
              "      <th>Correlation</th>\n",
              "      <th>title</th>\n",
              "    </tr>\n",
              "  </thead>\n",
              "  <tbody>\n",
              "    <tr>\n",
              "      <th>76</th>\n",
              "      <td>5e41bd7deab55d319938a839</td>\n",
              "      <td>1.000000</td>\n",
              "      <td>Operators In PHP</td>\n",
              "    </tr>\n",
              "    <tr>\n",
              "      <th>47</th>\n",
              "      <td>5e36e7baeab55d319938a6d1</td>\n",
              "      <td>1.000000</td>\n",
              "      <td>E-Commerce</td>\n",
              "    </tr>\n",
              "    <tr>\n",
              "      <th>95</th>\n",
              "      <td>5e4ed8ccf5561b1994c8e47d</td>\n",
              "      <td>0.704078</td>\n",
              "      <td>Leap year checking (.net)</td>\n",
              "    </tr>\n",
              "    <tr>\n",
              "      <th>82</th>\n",
              "      <td>5e4ba3a9f5561b1994c8e392</td>\n",
              "      <td>0.704078</td>\n",
              "      <td>Hand Art</td>\n",
              "    </tr>\n",
              "    <tr>\n",
              "      <th>93</th>\n",
              "      <td>5e4dab15f5561b1994c8e446</td>\n",
              "      <td>0.704078</td>\n",
              "      <td>Palindrome No.(PHP)</td>\n",
              "    </tr>\n",
              "    <tr>\n",
              "      <th>92</th>\n",
              "      <td>5e4da7c8f5561b1994c8e439</td>\n",
              "      <td>0.704078</td>\n",
              "      <td>Factorial of a No.(PHP)</td>\n",
              "    </tr>\n",
              "    <tr>\n",
              "      <th>91</th>\n",
              "      <td>5e4da502f5561b1994c8e42c</td>\n",
              "      <td>0.704078</td>\n",
              "      <td>Prime No.(PHP)</td>\n",
              "    </tr>\n",
              "    <tr>\n",
              "      <th>89</th>\n",
              "      <td>5e4c435cf5561b1994c8e400</td>\n",
              "      <td>0.704078</td>\n",
              "      <td>Printers</td>\n",
              "    </tr>\n",
              "    <tr>\n",
              "      <th>88</th>\n",
              "      <td>5e4c3d1df5561b1994c8e3f3</td>\n",
              "      <td>0.704078</td>\n",
              "      <td>Raster graphics systems</td>\n",
              "    </tr>\n",
              "    <tr>\n",
              "      <th>87</th>\n",
              "      <td>5e4c3c09f5561b1994c8e3e6</td>\n",
              "      <td>0.704078</td>\n",
              "      <td>Stereoscopic and virtual-reality systems</td>\n",
              "    </tr>\n",
              "  </tbody>\n",
              "</table>\n",
              "</div>"
            ],
            "text/plain": [
              "                     post_id  ...                                     title\n",
              "76  5e41bd7deab55d319938a839  ...                          Operators In PHP\n",
              "47  5e36e7baeab55d319938a6d1  ...                                E-Commerce\n",
              "95  5e4ed8ccf5561b1994c8e47d  ...                 Leap year checking (.net)\n",
              "82  5e4ba3a9f5561b1994c8e392  ...                                  Hand Art\n",
              "93  5e4dab15f5561b1994c8e446  ...                       Palindrome No.(PHP)\n",
              "92  5e4da7c8f5561b1994c8e439  ...                   Factorial of a No.(PHP)\n",
              "91  5e4da502f5561b1994c8e42c  ...                            Prime No.(PHP)\n",
              "89  5e4c435cf5561b1994c8e400  ...                                  Printers\n",
              "88  5e4c3d1df5561b1994c8e3f3  ...                   Raster graphics systems\n",
              "87  5e4c3c09f5561b1994c8e3e6  ...  Stereoscopic and virtual-reality systems\n",
              "\n",
              "[10 rows x 3 columns]"
            ]
          },
          "metadata": {
            "tags": []
          },
          "execution_count": 424
        }
      ]
    },
    {
      "cell_type": "markdown",
      "metadata": {
        "id": "g-OfnCOalRuh"
      },
      "source": [
        "## **2. Using K-Nearest Neighbours of a post**"
      ]
    },
    {
      "cell_type": "markdown",
      "metadata": {
        "id": "UH1-PiHPl28i"
      },
      "source": [
        "**Maintain hashsets for interchangability between post_id to index of post_id in interaction matrix**"
      ]
    },
    {
      "cell_type": "code",
      "metadata": {
        "id": "Q7QqNot7GQvb"
      },
      "source": [
        "id_to_index = {}\n",
        "index_to_id = {}\n",
        "index = 0\n",
        "for i in interaction_mat.columns:\n",
        "  id_to_index[i] = index\n",
        "  index+=1\n",
        "index_to_id = {v:k for k,v in id_to_index.items()}"
      ],
      "execution_count": null,
      "outputs": []
    },
    {
      "cell_type": "markdown",
      "metadata": {
        "id": "vSyzreDzmOJ2"
      },
      "source": [
        "**Transpose the interaction_matrix with post_id on rows and user_id on columns**"
      ]
    },
    {
      "cell_type": "code",
      "metadata": {
        "id": "lCrzMbwtCLTG"
      },
      "source": [
        "X = np.transpose(interaction_mat.values)"
      ],
      "execution_count": null,
      "outputs": []
    },
    {
      "cell_type": "code",
      "metadata": {
        "colab": {
          "base_uri": "https://localhost:8080/"
        },
        "id": "VcL5cAic5pcN",
        "outputId": "1a20d0a8-5f4a-4946-de43-64ae18aaf8f0"
      },
      "source": [
        "X.shape"
      ],
      "execution_count": null,
      "outputs": [
        {
          "output_type": "execute_result",
          "data": {
            "text/plain": [
              "(485, 118)"
            ]
          },
          "metadata": {
            "tags": []
          },
          "execution_count": 427
        }
      ]
    },
    {
      "cell_type": "markdown",
      "metadata": {
        "id": "9WjTuRv7mYRE"
      },
      "source": [
        "**Instantiate a model of NearestNeighbours**"
      ]
    },
    {
      "cell_type": "code",
      "metadata": {
        "id": "xprnFEXH-yuh"
      },
      "source": [
        "from sklearn.neighbors import NearestNeighbors\n",
        "model = NearestNeighbors(n_neighbors = 20,\n",
        "                        algorithm = 'brute',\n",
        "                        metric = 'cosine',\n",
        "                        n_jobs = -1)"
      ],
      "execution_count": null,
      "outputs": []
    },
    {
      "cell_type": "code",
      "metadata": {
        "id": "Gq7wm2vQMNdp"
      },
      "source": [
        "from scipy.sparse import csr_matrix\n",
        "# transform matrix to scipy sparse matrix\n",
        "X = csr_matrix(X)"
      ],
      "execution_count": null,
      "outputs": []
    },
    {
      "cell_type": "markdown",
      "metadata": {
        "id": "3gBaK-YHmmkm"
      },
      "source": [
        "**Fit X with model**"
      ]
    },
    {
      "cell_type": "code",
      "metadata": {
        "colab": {
          "base_uri": "https://localhost:8080/"
        },
        "id": "_QFkXOfE_ayx",
        "outputId": "ee50ff33-8a26-4b32-ce38-5bd5ab214d08"
      },
      "source": [
        "model.fit(X)"
      ],
      "execution_count": null,
      "outputs": [
        {
          "output_type": "execute_result",
          "data": {
            "text/plain": [
              "NearestNeighbors(algorithm='brute', leaf_size=30, metric='cosine',\n",
              "                 metric_params=None, n_jobs=-1, n_neighbors=20, p=2,\n",
              "                 radius=1.0)"
            ]
          },
          "metadata": {
            "tags": []
          },
          "execution_count": 430
        }
      ]
    },
    {
      "cell_type": "code",
      "metadata": {
        "id": "M4-oxNnzK56i"
      },
      "source": [
        "def get_rec_knn(postid):\n",
        "  print('Title : ', id_to_title[postid])\n",
        "  index = id_to_index[postid]\n",
        "  dist, indices = model.kneighbors(X[index].reshape(1,-1))\n",
        "  df1 = pd.DataFrame(list(zip(dist.squeeze(),indices.squeeze())),columns=['distance','Index'])\n",
        "  df1['post_id'] = df1['Index'].apply(lambda x: index_to_id[x])\n",
        "  df1['title'] = df1['post_id'].apply(lambda x: id_to_title[x]) \n",
        "  print('Recommendations for post: ',id_to_title[postid])\n",
        "  return df1.sort_values('distance',ascending=True).head(10)"
      ],
      "execution_count": null,
      "outputs": []
    },
    {
      "cell_type": "markdown",
      "metadata": {
        "id": "NBoj9dfx0ZQ5"
      },
      "source": [
        "**Find K(20)-Nearest neighoubers to post_id**"
      ]
    },
    {
      "cell_type": "code",
      "metadata": {
        "colab": {
          "base_uri": "https://localhost:8080/",
          "height": 400
        },
        "id": "VFSfs6P8_uaV",
        "outputId": "eb12e7b6-913a-4e02-92b8-9c6d99da1bda"
      },
      "source": [
        "# If you want to recommend posts by giving post name uncomment following 2 lines\n",
        "# and comment third line\n",
        "#post_title = 'Operators In PHP'\n",
        "#postid = get_postid(post_title)\n",
        "\n",
        "postid = '5e41bd7deab55d319938a839'\n",
        "get_rec_knn(postid)"
      ],
      "execution_count": null,
      "outputs": [
        {
          "output_type": "stream",
          "text": [
            "Title :  Operators In PHP\n",
            "Recommendations for post:  Operators In PHP\n"
          ],
          "name": "stdout"
        },
        {
          "output_type": "execute_result",
          "data": {
            "text/html": [
              "<div>\n",
              "<style scoped>\n",
              "    .dataframe tbody tr th:only-of-type {\n",
              "        vertical-align: middle;\n",
              "    }\n",
              "\n",
              "    .dataframe tbody tr th {\n",
              "        vertical-align: top;\n",
              "    }\n",
              "\n",
              "    .dataframe thead th {\n",
              "        text-align: right;\n",
              "    }\n",
              "</style>\n",
              "<table border=\"1\" class=\"dataframe\">\n",
              "  <thead>\n",
              "    <tr style=\"text-align: right;\">\n",
              "      <th></th>\n",
              "      <th>distance</th>\n",
              "      <th>Index</th>\n",
              "      <th>post_id</th>\n",
              "      <th>title</th>\n",
              "    </tr>\n",
              "  </thead>\n",
              "  <tbody>\n",
              "    <tr>\n",
              "      <th>0</th>\n",
              "      <td>2.220446e-16</td>\n",
              "      <td>47</td>\n",
              "      <td>5e36e7baeab55d319938a6d1</td>\n",
              "      <td>E-Commerce</td>\n",
              "    </tr>\n",
              "    <tr>\n",
              "      <th>1</th>\n",
              "      <td>2.220446e-16</td>\n",
              "      <td>76</td>\n",
              "      <td>5e41bd7deab55d319938a839</td>\n",
              "      <td>Operators In PHP</td>\n",
              "    </tr>\n",
              "    <tr>\n",
              "      <th>17</th>\n",
              "      <td>2.928932e-01</td>\n",
              "      <td>88</td>\n",
              "      <td>5e4c3d1df5561b1994c8e3f3</td>\n",
              "      <td>Raster graphics systems</td>\n",
              "    </tr>\n",
              "    <tr>\n",
              "      <th>16</th>\n",
              "      <td>2.928932e-01</td>\n",
              "      <td>63</td>\n",
              "      <td>5e3ea110eab55d319938a7a7</td>\n",
              "      <td>OS</td>\n",
              "    </tr>\n",
              "    <tr>\n",
              "      <th>15</th>\n",
              "      <td>2.928932e-01</td>\n",
              "      <td>62</td>\n",
              "      <td>5e3e9cc0eab55d319938a79b</td>\n",
              "      <td>C#(.NET)</td>\n",
              "    </tr>\n",
              "    <tr>\n",
              "      <th>14</th>\n",
              "      <td>2.928932e-01</td>\n",
              "      <td>61</td>\n",
              "      <td>5e3c7293eab55d319938a74d</td>\n",
              "      <td>PHP</td>\n",
              "    </tr>\n",
              "    <tr>\n",
              "      <th>13</th>\n",
              "      <td>2.928932e-01</td>\n",
              "      <td>96</td>\n",
              "      <td>5e4edd1bf5561b1994c8e48a</td>\n",
              "      <td>Delegates(.net)</td>\n",
              "    </tr>\n",
              "    <tr>\n",
              "      <th>12</th>\n",
              "      <td>2.928932e-01</td>\n",
              "      <td>95</td>\n",
              "      <td>5e4ed8ccf5561b1994c8e47d</td>\n",
              "      <td>Leap year checking (.net)</td>\n",
              "    </tr>\n",
              "    <tr>\n",
              "      <th>11</th>\n",
              "      <td>2.928932e-01</td>\n",
              "      <td>79</td>\n",
              "      <td>5e45b5c9f5561b1994c8e32d</td>\n",
              "      <td>EDI (Electronic data interchange)</td>\n",
              "    </tr>\n",
              "    <tr>\n",
              "      <th>10</th>\n",
              "      <td>2.928932e-01</td>\n",
              "      <td>93</td>\n",
              "      <td>5e4dab15f5561b1994c8e446</td>\n",
              "      <td>Palindrome No.(PHP)</td>\n",
              "    </tr>\n",
              "  </tbody>\n",
              "</table>\n",
              "</div>"
            ],
            "text/plain": [
              "        distance  ...                              title\n",
              "0   2.220446e-16  ...                         E-Commerce\n",
              "1   2.220446e-16  ...                   Operators In PHP\n",
              "17  2.928932e-01  ...            Raster graphics systems\n",
              "16  2.928932e-01  ...                                 OS\n",
              "15  2.928932e-01  ...                           C#(.NET)\n",
              "14  2.928932e-01  ...                                PHP\n",
              "13  2.928932e-01  ...                    Delegates(.net)\n",
              "12  2.928932e-01  ...          Leap year checking (.net)\n",
              "11  2.928932e-01  ...  EDI (Electronic data interchange)\n",
              "10  2.928932e-01  ...                Palindrome No.(PHP)\n",
              "\n",
              "[10 rows x 4 columns]"
            ]
          },
          "metadata": {
            "tags": []
          },
          "execution_count": 432
        }
      ]
    },
    {
      "cell_type": "markdown",
      "metadata": {
        "id": "P7EA6J3P5xfx"
      },
      "source": [
        "## **3.By factorizing the interaction matrix**"
      ]
    },
    {
      "cell_type": "code",
      "metadata": {
        "colab": {
          "base_uri": "https://localhost:8080/",
          "height": 400
        },
        "id": "Wm0_3DlxB0So",
        "outputId": "85bbb72c-dff4-442a-e50f-1c46d47c95f2"
      },
      "source": [
        "X = interaction_mat.values.T\n",
        "\n",
        "#Normalizing the matrix(subtract mean off)\n",
        "normalised_mat = X - np.asarray([(np.mean(X, 1))]).T\n",
        "\n",
        "#Computing the Singular Value Decomposition (SVD)\n",
        "A = normalised_mat.T / np.sqrt(X.shape[0] - 1)\n",
        "U, S, V = np.linalg.svd(A)\n",
        "\n",
        "#Function to calculate the cosine similarity (sorting by most similar and returning the top N)\n",
        "def top_cosine_similarity(data, index, top_n=10):\n",
        "    post_row = data[index, :]\n",
        "    magnitude = np.sqrt(np.einsum('ij, ij -> i', data, data))\n",
        "    similarity = np.dot(post_row, data.T) / (magnitude[index] * magnitude)\n",
        "    sort_indexes = np.argsort(-similarity)\n",
        "    return sort_indexes[:top_n]\n",
        "#k-principal components to represent movies, movie_id to find recommendations, top_n print n results        \n",
        "k = 50\n",
        "# If you want to recommend posts by giving post name uncomment following 2 lines\n",
        "# and comment third line\n",
        "#post_title = 'Launching an EC2 instance.'\n",
        "#postid = get_postid(post_title)\n",
        "\n",
        "postid = '5ed13d2876027d35905cc4c2'\n",
        "index = list(interaction_mat.columns).index(postid)\n",
        "top_n = 10\n",
        "sliced = V.T[:, :k] # representative data\n",
        "post_indices = top_cosine_similarity(sliced, index, top_n)\n",
        "print('Recommendations for post_id: ',postid)\n",
        "print('Title: ',id_to_title[postid])\n",
        "id_s = [index_to_id[i] for i in post_indices]\n",
        "rec = posts[posts['post_id'].apply(lambda x: x in id_s)]\n",
        "rec['rank'] = rec['post_id'].apply(lambda x: id_s.index(x)+1)\n",
        "rec.sort_values('rank').head(10)"
      ],
      "execution_count": null,
      "outputs": [
        {
          "output_type": "stream",
          "text": [
            "Recommendations for post_id:  5ed13d2876027d35905cc4c2\n",
            "Title:  Launching an EC2 instance.\n"
          ],
          "name": "stdout"
        },
        {
          "output_type": "execute_result",
          "data": {
            "text/html": [
              "<div>\n",
              "<style scoped>\n",
              "    .dataframe tbody tr th:only-of-type {\n",
              "        vertical-align: middle;\n",
              "    }\n",
              "\n",
              "    .dataframe tbody tr th {\n",
              "        vertical-align: top;\n",
              "    }\n",
              "\n",
              "    .dataframe thead th {\n",
              "        text-align: right;\n",
              "    }\n",
              "</style>\n",
              "<table border=\"1\" class=\"dataframe\">\n",
              "  <thead>\n",
              "    <tr style=\"text-align: right;\">\n",
              "      <th></th>\n",
              "      <th>post_id</th>\n",
              "      <th>title</th>\n",
              "      <th>category</th>\n",
              "      <th>post_type</th>\n",
              "      <th>rank</th>\n",
              "    </tr>\n",
              "  </thead>\n",
              "  <tbody>\n",
              "    <tr>\n",
              "      <th>466</th>\n",
              "      <td>5ed13d2876027d35905cc4c2</td>\n",
              "      <td>Launching an EC2 instance.</td>\n",
              "      <td>Technology</td>\n",
              "      <td>skill</td>\n",
              "      <td>1</td>\n",
              "    </tr>\n",
              "    <tr>\n",
              "      <th>486</th>\n",
              "      <td>5ed2502b76027d35905cc7db</td>\n",
              "      <td>Learning...</td>\n",
              "      <td>Computer Technology|Machine Learning</td>\n",
              "      <td>blog</td>\n",
              "      <td>2</td>\n",
              "    </tr>\n",
              "    <tr>\n",
              "      <th>400</th>\n",
              "      <td>5eb4fab110426255a7aaa0ed</td>\n",
              "      <td>God Drawing</td>\n",
              "      <td>Drawings</td>\n",
              "      <td>artwork</td>\n",
              "      <td>3</td>\n",
              "    </tr>\n",
              "    <tr>\n",
              "      <th>467</th>\n",
              "      <td>5ed141aa76027d35905cc4c9</td>\n",
              "      <td>Integrating Machine Learning with devOps(MLops)</td>\n",
              "      <td>Computer Technology|Data Science</td>\n",
              "      <td>blog</td>\n",
              "      <td>4</td>\n",
              "    </tr>\n",
              "    <tr>\n",
              "      <th>482</th>\n",
              "      <td>5ed23cb876027d35905cc788</td>\n",
              "      <td>Fear.</td>\n",
              "      <td>Typography|Calligraphy|Pen and ink</td>\n",
              "      <td>artwork</td>\n",
              "      <td>5</td>\n",
              "    </tr>\n",
              "    <tr>\n",
              "      <th>434</th>\n",
              "      <td>5ec7a8bdec493f4a26558846</td>\n",
              "      <td>HUMAN ILLUSTRATION</td>\n",
              "      <td>Drawings|Fashion Design|Illustration|Watercolours</td>\n",
              "      <td>artwork</td>\n",
              "      <td>6</td>\n",
              "    </tr>\n",
              "    <tr>\n",
              "      <th>137</th>\n",
              "      <td>5e773c89cfc8b713f5ac7ac9</td>\n",
              "      <td>Corona: What it is; how to prevent it and its ...</td>\n",
              "      <td>Mass Media|Indian Government</td>\n",
              "      <td>blog</td>\n",
              "      <td>7</td>\n",
              "    </tr>\n",
              "    <tr>\n",
              "      <th>190</th>\n",
              "      <td>5e81be54a3258347b42f221d</td>\n",
              "      <td>Work From Home: Working Under Corona's Effect</td>\n",
              "      <td>Mass Media|Indian Government</td>\n",
              "      <td>blog</td>\n",
              "      <td>8</td>\n",
              "    </tr>\n",
              "    <tr>\n",
              "      <th>487</th>\n",
              "      <td>5ed3476576027d35905cca1d</td>\n",
              "      <td>AWS CLI Setup in Mac</td>\n",
              "      <td>Technology</td>\n",
              "      <td>skill</td>\n",
              "      <td>9</td>\n",
              "    </tr>\n",
              "    <tr>\n",
              "      <th>141</th>\n",
              "      <td>5e77738bcfc8b713f5ac7b36</td>\n",
              "      <td>Cloud Computing</td>\n",
              "      <td>Computer Technology|Cloud Computing</td>\n",
              "      <td>blog</td>\n",
              "      <td>10</td>\n",
              "    </tr>\n",
              "  </tbody>\n",
              "</table>\n",
              "</div>"
            ],
            "text/plain": [
              "                      post_id  ... rank\n",
              "466  5ed13d2876027d35905cc4c2  ...    1\n",
              "486  5ed2502b76027d35905cc7db  ...    2\n",
              "400  5eb4fab110426255a7aaa0ed  ...    3\n",
              "467  5ed141aa76027d35905cc4c9  ...    4\n",
              "482  5ed23cb876027d35905cc788  ...    5\n",
              "434  5ec7a8bdec493f4a26558846  ...    6\n",
              "137  5e773c89cfc8b713f5ac7ac9  ...    7\n",
              "190  5e81be54a3258347b42f221d  ...    8\n",
              "487  5ed3476576027d35905cca1d  ...    9\n",
              "141  5e77738bcfc8b713f5ac7b36  ...   10\n",
              "\n",
              "[10 rows x 5 columns]"
            ]
          },
          "metadata": {
            "tags": []
          },
          "execution_count": 436
        }
      ]
    },
    {
      "cell_type": "markdown",
      "metadata": {
        "id": "66UqXuLC6rxE"
      },
      "source": [
        "# **Recommending posts to a user**"
      ]
    },
    {
      "cell_type": "markdown",
      "metadata": {
        "id": "fRNHqO9v6zTo"
      },
      "source": [
        "## **1. Finding K-Nearest Neighbours to a post furthur recommending popular posts of neighbours**"
      ]
    },
    {
      "cell_type": "code",
      "metadata": {
        "id": "nRbyIYAEWYX9"
      },
      "source": [
        "model = NearestNeighbors(n_neighbors = 20,\n",
        "                        algorithm = 'brute',\n",
        "                        metric = 'cosine',\n",
        "                        n_jobs = -1)"
      ],
      "execution_count": null,
      "outputs": []
    },
    {
      "cell_type": "code",
      "metadata": {
        "colab": {
          "base_uri": "https://localhost:8080/"
        },
        "id": "GwneTBQ57PIc",
        "outputId": "6ac3c56c-6d59-46b7-f0c9-3e4ff5f91bc4"
      },
      "source": [
        "# user_id along rows and post_id along columns\n",
        "interaction_mat.shape"
      ],
      "execution_count": null,
      "outputs": [
        {
          "output_type": "execute_result",
          "data": {
            "text/plain": [
              "(118, 485)"
            ]
          },
          "metadata": {
            "tags": []
          },
          "execution_count": 438
        }
      ]
    },
    {
      "cell_type": "markdown",
      "metadata": {
        "id": "Ek8I3W9j7moN"
      },
      "source": [
        "**Fit a matrix to the model**"
      ]
    },
    {
      "cell_type": "code",
      "metadata": {
        "colab": {
          "base_uri": "https://localhost:8080/"
        },
        "id": "PO7fOE6dWdQ7",
        "outputId": "26d0db26-a017-4b59-fa31-f4d87fcb178d"
      },
      "source": [
        "model.fit(interaction_mat)"
      ],
      "execution_count": null,
      "outputs": [
        {
          "output_type": "execute_result",
          "data": {
            "text/plain": [
              "NearestNeighbors(algorithm='brute', leaf_size=30, metric='cosine',\n",
              "                 metric_params=None, n_jobs=-1, n_neighbors=20, p=2,\n",
              "                 radius=1.0)"
            ]
          },
          "metadata": {
            "tags": []
          },
          "execution_count": 439
        }
      ]
    },
    {
      "cell_type": "markdown",
      "metadata": {
        "id": "1ynZU3Uz7ufK"
      },
      "source": [
        "**Find K neighbours to the user_id**"
      ]
    },
    {
      "cell_type": "code",
      "metadata": {
        "colab": {
          "base_uri": "https://localhost:8080/"
        },
        "id": "8YjNQcPUWiET",
        "outputId": "6c10ea69-5bc4-4a45-a902-1010eab144d8"
      },
      "source": [
        "userid = '5ece02427023451e66223861'\n",
        "print('User_id : ', userid)\n",
        "index = list(interaction_mat.index).index(userid)\n",
        "dist, indices = model.kneighbors(interaction_mat.values[index].reshape(1,-1))"
      ],
      "execution_count": null,
      "outputs": [
        {
          "output_type": "stream",
          "text": [
            "User_id :  5ece02427023451e66223861\n"
          ],
          "name": "stdout"
        }
      ]
    },
    {
      "cell_type": "markdown",
      "metadata": {
        "id": "Ogmgy5FT72h2"
      },
      "source": [
        "**Indices of K nearest user_id's**"
      ]
    },
    {
      "cell_type": "code",
      "metadata": {
        "colab": {
          "base_uri": "https://localhost:8080/"
        },
        "id": "nL1MSKE9XmOn",
        "outputId": "db9d2156-f700-4edb-ade7-e5cd09a6b804"
      },
      "source": [
        "indices"
      ],
      "execution_count": null,
      "outputs": [
        {
          "output_type": "execute_result",
          "data": {
            "text/plain": [
              "array([[ 90,  97, 116, 114,  99, 103, 102, 109,  98, 111, 101,  89, 106,\n",
              "        100,   2, 112,  87,   0,   9,   4]])"
            ]
          },
          "metadata": {
            "tags": []
          },
          "execution_count": 441
        }
      ]
    },
    {
      "cell_type": "markdown",
      "metadata": {
        "id": "NdLviJQS7-rb"
      },
      "source": [
        "**Past history of user_id**"
      ]
    },
    {
      "cell_type": "code",
      "metadata": {
        "colab": {
          "base_uri": "https://localhost:8080/",
          "height": 130
        },
        "id": "a8lSP28mfebE",
        "outputId": "1df38488-ee53-48a3-eec6-6ad59c7cbcd5"
      },
      "source": [
        "print(\"Previous posts viewed by user: \",userid)\n",
        "df[df['user_id']==userid].drop('user_id',axis=1)"
      ],
      "execution_count": null,
      "outputs": [
        {
          "output_type": "stream",
          "text": [
            "Previous posts viewed by user:  5ece02427023451e66223861\n"
          ],
          "name": "stdout"
        },
        {
          "output_type": "execute_result",
          "data": {
            "text/html": [
              "<div>\n",
              "<style scoped>\n",
              "    .dataframe tbody tr th:only-of-type {\n",
              "        vertical-align: middle;\n",
              "    }\n",
              "\n",
              "    .dataframe tbody tr th {\n",
              "        vertical-align: top;\n",
              "    }\n",
              "\n",
              "    .dataframe thead th {\n",
              "        text-align: right;\n",
              "    }\n",
              "</style>\n",
              "<table border=\"1\" class=\"dataframe\">\n",
              "  <thead>\n",
              "    <tr style=\"text-align: right;\">\n",
              "      <th></th>\n",
              "      <th>post_id</th>\n",
              "      <th>visits</th>\n",
              "      <th>title</th>\n",
              "      <th>category</th>\n",
              "      <th>post_type</th>\n",
              "    </tr>\n",
              "  </thead>\n",
              "  <tbody>\n",
              "    <tr>\n",
              "      <th>768</th>\n",
              "      <td>5ed09ad076027d35905cc15f</td>\n",
              "      <td>1</td>\n",
              "      <td>Understanding Cloud Computing(AWS)</td>\n",
              "      <td>Computer Technology|Cloud Computing</td>\n",
              "      <td>blog</td>\n",
              "    </tr>\n",
              "    <tr>\n",
              "      <th>790</th>\n",
              "      <td>5ed1ff0276027d35905cc60d</td>\n",
              "      <td>1</td>\n",
              "      <td>AWS services and how to launch OS on AWS Cloud</td>\n",
              "      <td>Computer Technology|Cloud Computing</td>\n",
              "      <td>blog</td>\n",
              "    </tr>\n",
              "  </tbody>\n",
              "</table>\n",
              "</div>"
            ],
            "text/plain": [
              "                      post_id  ...   post_type\n",
              "768  5ed09ad076027d35905cc15f  ...        blog\n",
              "790  5ed1ff0276027d35905cc60d  ...        blog\n",
              "\n",
              "[2 rows x 5 columns]"
            ]
          },
          "metadata": {
            "tags": []
          },
          "execution_count": 442
        }
      ]
    },
    {
      "cell_type": "markdown",
      "metadata": {
        "id": "EB0VV7gL8DrY"
      },
      "source": [
        "**Find the popular posts among nearest user_id's**"
      ]
    },
    {
      "cell_type": "code",
      "metadata": {
        "id": "8VHsWRkYY7gb"
      },
      "source": [
        "views_count = [0]*interaction_mat.shape[1]\n",
        "for i in indices[0]:\n",
        "  for j in range(interaction_mat.shape[1]):\n",
        "    views_count[j]+=interaction_mat.iloc[i][j]"
      ],
      "execution_count": null,
      "outputs": []
    },
    {
      "cell_type": "markdown",
      "metadata": {
        "id": "D3tSVzGX8ROG"
      },
      "source": [
        "**Get the top 20 posts which are viewed by nearest user_id's**"
      ]
    },
    {
      "cell_type": "code",
      "metadata": {
        "colab": {
          "base_uri": "https://localhost:8080/"
        },
        "id": "8Oeih7O9ZUPB",
        "outputId": "97d2772a-20cb-417a-cd69-a9d895f67542"
      },
      "source": [
        "post_indices = np.argsort(-np.array(views_count))[:20]\n",
        "post_indices"
      ],
      "execution_count": null,
      "outputs": [
        {
          "output_type": "execute_result",
          "data": {
            "text/plain": [
              "array([456, 462, 445, 450, 391, 443, 422, 444, 451, 411, 458, 430, 446,\n",
              "       448, 440, 436, 449, 433, 230, 367])"
            ]
          },
          "metadata": {
            "tags": []
          },
          "execution_count": 444
        }
      ]
    },
    {
      "cell_type": "code",
      "metadata": {
        "colab": {
          "base_uri": "https://localhost:8080/",
          "height": 381
        },
        "id": "_QXO_iK3e3qr",
        "outputId": "df5b9aa1-192c-4ec7-bcd9-6834515349e1"
      },
      "source": [
        "print('Recommendations for user_id: ',userid)\n",
        "id_s = [index_to_id[i] for i in post_indices]\n",
        "rec = posts[posts['post_id'].apply(lambda x: x in id_s)]\n",
        "rec['rank'] = rec['post_id'].apply(lambda x: id_s.index(x)+1)\n",
        "rec.sort_values('rank').head(10)"
      ],
      "execution_count": null,
      "outputs": [
        {
          "output_type": "stream",
          "text": [
            "Recommendations for user_id:  5ece02427023451e66223861\n"
          ],
          "name": "stdout"
        },
        {
          "output_type": "execute_result",
          "data": {
            "text/html": [
              "<div>\n",
              "<style scoped>\n",
              "    .dataframe tbody tr th:only-of-type {\n",
              "        vertical-align: middle;\n",
              "    }\n",
              "\n",
              "    .dataframe tbody tr th {\n",
              "        vertical-align: top;\n",
              "    }\n",
              "\n",
              "    .dataframe thead th {\n",
              "        text-align: right;\n",
              "    }\n",
              "</style>\n",
              "<table border=\"1\" class=\"dataframe\">\n",
              "  <thead>\n",
              "    <tr style=\"text-align: right;\">\n",
              "      <th></th>\n",
              "      <th>post_id</th>\n",
              "      <th>title</th>\n",
              "      <th>category</th>\n",
              "      <th>post_type</th>\n",
              "      <th>rank</th>\n",
              "    </tr>\n",
              "  </thead>\n",
              "  <tbody>\n",
              "    <tr>\n",
              "      <th>461</th>\n",
              "      <td>5ed09ad076027d35905cc15f</td>\n",
              "      <td>Understanding Cloud Computing(AWS)</td>\n",
              "      <td>Computer Technology|Cloud Computing</td>\n",
              "      <td>blog</td>\n",
              "      <td>1</td>\n",
              "    </tr>\n",
              "    <tr>\n",
              "      <th>470</th>\n",
              "      <td>5ed1ff0276027d35905cc60d</td>\n",
              "      <td>AWS services and how to launch OS on AWS Cloud</td>\n",
              "      <td>Computer Technology|Cloud Computing</td>\n",
              "      <td>blog</td>\n",
              "      <td>2</td>\n",
              "    </tr>\n",
              "    <tr>\n",
              "      <th>450</th>\n",
              "      <td>5ecd5d417023451e662235c5</td>\n",
              "      <td>Machine Learning”&amp;“Operations\" (MlOps)</td>\n",
              "      <td>Computer Technology|Machine Learning</td>\n",
              "      <td>blog</td>\n",
              "      <td>3</td>\n",
              "    </tr>\n",
              "    <tr>\n",
              "      <th>455</th>\n",
              "      <td>5ecf96e876027d35905cbf46</td>\n",
              "      <td>GAN's Part(2)</td>\n",
              "      <td>Computer Technology|Machine Learning</td>\n",
              "      <td>blog</td>\n",
              "      <td>4</td>\n",
              "    </tr>\n",
              "    <tr>\n",
              "      <th>395</th>\n",
              "      <td>5eb2c11210426255a7aaa052</td>\n",
              "      <td>Gangster Style</td>\n",
              "      <td>Drawings</td>\n",
              "      <td>artwork</td>\n",
              "      <td>5</td>\n",
              "    </tr>\n",
              "    <tr>\n",
              "      <th>448</th>\n",
              "      <td>5ecc1d4eeaff6b0c3a58a565</td>\n",
              "      <td>Faith in yourself</td>\n",
              "      <td>Photography</td>\n",
              "      <td>artwork</td>\n",
              "      <td>6</td>\n",
              "    </tr>\n",
              "    <tr>\n",
              "      <th>426</th>\n",
              "      <td>5ec54fc9f2781131cc7e50f5</td>\n",
              "      <td>Future Communication Predictions</td>\n",
              "      <td>Science;Technology</td>\n",
              "      <td>skill</td>\n",
              "      <td>7</td>\n",
              "    </tr>\n",
              "    <tr>\n",
              "      <th>449</th>\n",
              "      <td>5ecce8a5eaff6b0c3a58a5e9</td>\n",
              "      <td>The Waves Have Stood Still</td>\n",
              "      <td>Photography</td>\n",
              "      <td>artwork</td>\n",
              "      <td>8</td>\n",
              "    </tr>\n",
              "    <tr>\n",
              "      <th>456</th>\n",
              "      <td>5ecfa0ca76027d35905cbf57</td>\n",
              "      <td>Recommend Systems Machine Learning</td>\n",
              "      <td>Computer Technology|Machine Learning</td>\n",
              "      <td>blog</td>\n",
              "      <td>9</td>\n",
              "    </tr>\n",
              "    <tr>\n",
              "      <th>415</th>\n",
              "      <td>5ec1fd0974f7660d73aa0fd5</td>\n",
              "      <td>Daaku</td>\n",
              "      <td>Drawings</td>\n",
              "      <td>artwork</td>\n",
              "      <td>10</td>\n",
              "    </tr>\n",
              "  </tbody>\n",
              "</table>\n",
              "</div>"
            ],
            "text/plain": [
              "                      post_id  ... rank\n",
              "461  5ed09ad076027d35905cc15f  ...    1\n",
              "470  5ed1ff0276027d35905cc60d  ...    2\n",
              "450  5ecd5d417023451e662235c5  ...    3\n",
              "455  5ecf96e876027d35905cbf46  ...    4\n",
              "395  5eb2c11210426255a7aaa052  ...    5\n",
              "448  5ecc1d4eeaff6b0c3a58a565  ...    6\n",
              "426  5ec54fc9f2781131cc7e50f5  ...    7\n",
              "449  5ecce8a5eaff6b0c3a58a5e9  ...    8\n",
              "456  5ecfa0ca76027d35905cbf57  ...    9\n",
              "415  5ec1fd0974f7660d73aa0fd5  ...   10\n",
              "\n",
              "[10 rows x 5 columns]"
            ]
          },
          "metadata": {
            "tags": []
          },
          "execution_count": 445
        }
      ]
    },
    {
      "cell_type": "markdown",
      "metadata": {
        "id": "SdG1c-IlS4Vb"
      },
      "source": [
        "## **2. Factorizarion of interaction_matrix**"
      ]
    },
    {
      "cell_type": "code",
      "metadata": {
        "colab": {
          "base_uri": "https://localhost:8080/"
        },
        "id": "UExVtedvn2y0",
        "outputId": "134b862b-39b2-45c6-aeaf-81daae847f38"
      },
      "source": [
        "!pip install sparsesvd\n",
        "import math as mt\n",
        "import csv\n",
        "from sparsesvd import sparsesvd #used for matrix factorization\n",
        "from scipy.sparse import csc_matrix #used for sparse matrix\n",
        "from scipy.sparse.linalg import * #used for matrix multiplication"
      ],
      "execution_count": null,
      "outputs": [
        {
          "output_type": "stream",
          "text": [
            "Requirement already satisfied: sparsesvd in /usr/local/lib/python3.7/dist-packages (0.2.2)\n",
            "Requirement already satisfied: cython in /usr/local/lib/python3.7/dist-packages (from sparsesvd) (0.29.23)\n",
            "Requirement already satisfied: scipy>=0.6.0 in /usr/local/lib/python3.7/dist-packages (from sparsesvd) (1.4.1)\n",
            "Requirement already satisfied: numpy>=1.13.3 in /usr/local/lib/python3.7/dist-packages (from scipy>=0.6.0->sparsesvd) (1.19.5)\n"
          ],
          "name": "stdout"
        }
      ]
    },
    {
      "cell_type": "code",
      "metadata": {
        "id": "8GuuYzEBmRka"
      },
      "source": [
        "#constants defining the dimensions of our User Visiting Matrix (UVM)\n",
        "MAX_PID = interaction_mat.shape[1]\n",
        "MAX_UID = interaction_mat.shape[0]\n",
        "\n",
        "#Compute SVD of the user ratings matrix\n",
        "def computeSVD(uvm, K):\n",
        "\n",
        "    # Factorizes uvm into U,s,Vt such that\n",
        "    # uvm = numpy.dot(U.T, numpy.dot(numpy.diag(s), Vt)))\n",
        "    U, s, Vt = sparsesvd(uvm, K)\n",
        "\n",
        "    dim = (len(s), len(s))\n",
        "    S = np.zeros(dim, dtype=np.float32)\n",
        "    for i in range(0, len(s)):\n",
        "        S[i,i] = mt.sqrt(s[i])\n",
        "\n",
        "    U = csc_matrix(np.transpose(U), dtype=np.float32)\n",
        "    S = csc_matrix(S, dtype=np.float32)\n",
        "    Vt = csc_matrix(Vt, dtype=np.float32)\n",
        "    \n",
        "    return U, S, Vt\n",
        "\n",
        "#Compute estimated visits for the test user\n",
        "def computeEstimatedVisits(uvm, U, S, Vt, uTest, K, test):\n",
        "    rightTerm = S*Vt \n",
        "\n",
        "    estimatedVisits = np.zeros(shape=(MAX_UID, MAX_PID), dtype=np.float16)\n",
        "    for userTest in uTest:\n",
        "        prod = U[userTest, :]*rightTerm\n",
        "        #we convert the vector to dense format in order to get the indices \n",
        "        #of the movies with the best estimated ratings \n",
        "        estimatedVisits[userTest, :] = prod.todense()\n",
        "        recom = (-estimatedVisits[userTest, :]).argsort()[:250]\n",
        "    return recom"
      ],
      "execution_count": null,
      "outputs": []
    },
    {
      "cell_type": "code",
      "metadata": {
        "colab": {
          "base_uri": "https://localhost:8080/",
          "height": 130
        },
        "id": "Or23nwYIurjQ",
        "outputId": "4259eab9-c1bd-4eef-9a86-36418c8a6aaa"
      },
      "source": [
        "#Used in SVD calculation (number of latent factors)\n",
        "K = 100\n",
        "\n",
        "#Initialize a sample user rating matrix\n",
        "uvm = interaction_mat\n",
        "uvm = csc_matrix(uvm, dtype=np.float32)\n",
        "\n",
        "#Compute SVD of the input user visits matrix\n",
        "U, S, Vt = computeSVD(uvm, K)\n",
        "\n",
        "userid = '5ece02427023451e66223861'\n",
        "index = list(interaction_mat.index).index(userid)\n",
        "#index = 55\n",
        "#userid = interaction_mat.index[index]\n",
        "uTest = [index]\n",
        "\n",
        "print(\"Previous posts viewed by user: \",userid)\n",
        "df[df['user_id']==userid].drop('user_id',axis=1)"
      ],
      "execution_count": null,
      "outputs": [
        {
          "output_type": "stream",
          "text": [
            "Previous posts viewed by user:  5ece02427023451e66223861\n"
          ],
          "name": "stdout"
        },
        {
          "output_type": "execute_result",
          "data": {
            "text/html": [
              "<div>\n",
              "<style scoped>\n",
              "    .dataframe tbody tr th:only-of-type {\n",
              "        vertical-align: middle;\n",
              "    }\n",
              "\n",
              "    .dataframe tbody tr th {\n",
              "        vertical-align: top;\n",
              "    }\n",
              "\n",
              "    .dataframe thead th {\n",
              "        text-align: right;\n",
              "    }\n",
              "</style>\n",
              "<table border=\"1\" class=\"dataframe\">\n",
              "  <thead>\n",
              "    <tr style=\"text-align: right;\">\n",
              "      <th></th>\n",
              "      <th>post_id</th>\n",
              "      <th>visits</th>\n",
              "      <th>title</th>\n",
              "      <th>category</th>\n",
              "      <th>post_type</th>\n",
              "    </tr>\n",
              "  </thead>\n",
              "  <tbody>\n",
              "    <tr>\n",
              "      <th>768</th>\n",
              "      <td>5ed09ad076027d35905cc15f</td>\n",
              "      <td>1</td>\n",
              "      <td>Understanding Cloud Computing(AWS)</td>\n",
              "      <td>Computer Technology|Cloud Computing</td>\n",
              "      <td>blog</td>\n",
              "    </tr>\n",
              "    <tr>\n",
              "      <th>790</th>\n",
              "      <td>5ed1ff0276027d35905cc60d</td>\n",
              "      <td>1</td>\n",
              "      <td>AWS services and how to launch OS on AWS Cloud</td>\n",
              "      <td>Computer Technology|Cloud Computing</td>\n",
              "      <td>blog</td>\n",
              "    </tr>\n",
              "  </tbody>\n",
              "</table>\n",
              "</div>"
            ],
            "text/plain": [
              "                      post_id  ...   post_type\n",
              "768  5ed09ad076027d35905cc15f  ...        blog\n",
              "790  5ed1ff0276027d35905cc60d  ...        blog\n",
              "\n",
              "[2 rows x 5 columns]"
            ]
          },
          "metadata": {
            "tags": []
          },
          "execution_count": 448
        }
      ]
    },
    {
      "cell_type": "code",
      "metadata": {
        "colab": {
          "base_uri": "https://localhost:8080/",
          "height": 381
        },
        "id": "OtP3XtJ-m2rw",
        "outputId": "7d2f266a-e5ce-41ce-d389-2542e9b3286a"
      },
      "source": [
        "print(\"Recommended posts for userid: \",userid)\n",
        "rec_posts = computeEstimatedVisits(uvm, U, S, Vt, uTest, K, True)\n",
        "\n",
        "id_s = [index_to_id[i] for i in rec_posts]\n",
        "rec = posts[posts['post_id'].apply(lambda x: x in id_s)]\n",
        "rec['rank'] = rec['post_id'].apply(lambda x: id_s.index(x)+1)\n",
        "rec.sort_values('rank').head(10)"
      ],
      "execution_count": null,
      "outputs": [
        {
          "output_type": "stream",
          "text": [
            "Recommended posts for userid:  5ece02427023451e66223861\n"
          ],
          "name": "stdout"
        },
        {
          "output_type": "execute_result",
          "data": {
            "text/html": [
              "<div>\n",
              "<style scoped>\n",
              "    .dataframe tbody tr th:only-of-type {\n",
              "        vertical-align: middle;\n",
              "    }\n",
              "\n",
              "    .dataframe tbody tr th {\n",
              "        vertical-align: top;\n",
              "    }\n",
              "\n",
              "    .dataframe thead th {\n",
              "        text-align: right;\n",
              "    }\n",
              "</style>\n",
              "<table border=\"1\" class=\"dataframe\">\n",
              "  <thead>\n",
              "    <tr style=\"text-align: right;\">\n",
              "      <th></th>\n",
              "      <th>post_id</th>\n",
              "      <th>title</th>\n",
              "      <th>category</th>\n",
              "      <th>post_type</th>\n",
              "      <th>rank</th>\n",
              "    </tr>\n",
              "  </thead>\n",
              "  <tbody>\n",
              "    <tr>\n",
              "      <th>470</th>\n",
              "      <td>5ed1ff0276027d35905cc60d</td>\n",
              "      <td>AWS services and how to launch OS on AWS Cloud</td>\n",
              "      <td>Computer Technology|Cloud Computing</td>\n",
              "      <td>blog</td>\n",
              "      <td>1</td>\n",
              "    </tr>\n",
              "    <tr>\n",
              "      <th>461</th>\n",
              "      <td>5ed09ad076027d35905cc15f</td>\n",
              "      <td>Understanding Cloud Computing(AWS)</td>\n",
              "      <td>Computer Technology|Cloud Computing</td>\n",
              "      <td>blog</td>\n",
              "      <td>2</td>\n",
              "    </tr>\n",
              "    <tr>\n",
              "      <th>487</th>\n",
              "      <td>5ed3476576027d35905cca1d</td>\n",
              "      <td>AWS CLI Setup in Mac</td>\n",
              "      <td>Technology</td>\n",
              "      <td>skill</td>\n",
              "      <td>3</td>\n",
              "    </tr>\n",
              "    <tr>\n",
              "      <th>474</th>\n",
              "      <td>5ed2383776027d35905cc6ca</td>\n",
              "      <td>Self belief.</td>\n",
              "      <td>Typography|Pen and ink</td>\n",
              "      <td>artwork</td>\n",
              "      <td>4</td>\n",
              "    </tr>\n",
              "    <tr>\n",
              "      <th>438</th>\n",
              "      <td>5ec8204cec493f4a26558893</td>\n",
              "      <td>Art Expo 2020</td>\n",
              "      <td>Artistic design|Logo Design|Graphic|Illustration</td>\n",
              "      <td>artwork</td>\n",
              "      <td>5</td>\n",
              "    </tr>\n",
              "    <tr>\n",
              "      <th>188</th>\n",
              "      <td>5e81ba06a3258347b42f21ef</td>\n",
              "      <td>Managing Stress Amidst Corona</td>\n",
              "      <td>Mass Media|Indian Government</td>\n",
              "      <td>blog</td>\n",
              "      <td>6</td>\n",
              "    </tr>\n",
              "    <tr>\n",
              "      <th>411</th>\n",
              "      <td>5ebc3239514aab59896bcc86</td>\n",
              "      <td>The Basic Edge of Design.</td>\n",
              "      <td>Fashion Desigining|Fashion Illustration|Patter...</td>\n",
              "      <td>blog</td>\n",
              "      <td>7</td>\n",
              "    </tr>\n",
              "    <tr>\n",
              "      <th>189</th>\n",
              "      <td>5e81bc41a3258347b42f220a</td>\n",
              "      <td>How to Maintain Physical Distance: Physical Di...</td>\n",
              "      <td>Mass Media|Indian Government</td>\n",
              "      <td>blog</td>\n",
              "      <td>8</td>\n",
              "    </tr>\n",
              "    <tr>\n",
              "      <th>410</th>\n",
              "      <td>5eba2e94514aab59896bcc5a</td>\n",
              "      <td>Sky never disappoints me!</td>\n",
              "      <td>Photography</td>\n",
              "      <td>artwork</td>\n",
              "      <td>9</td>\n",
              "    </tr>\n",
              "    <tr>\n",
              "      <th>180</th>\n",
              "      <td>5e7f4fb3a3258347b42f2156</td>\n",
              "      <td>100 Free University Courses Online [2020]</td>\n",
              "      <td>Biotechnology|Plant Biotechnology</td>\n",
              "      <td>blog</td>\n",
              "      <td>10</td>\n",
              "    </tr>\n",
              "  </tbody>\n",
              "</table>\n",
              "</div>"
            ],
            "text/plain": [
              "                      post_id  ... rank\n",
              "470  5ed1ff0276027d35905cc60d  ...    1\n",
              "461  5ed09ad076027d35905cc15f  ...    2\n",
              "487  5ed3476576027d35905cca1d  ...    3\n",
              "474  5ed2383776027d35905cc6ca  ...    4\n",
              "438  5ec8204cec493f4a26558893  ...    5\n",
              "188  5e81ba06a3258347b42f21ef  ...    6\n",
              "411  5ebc3239514aab59896bcc86  ...    7\n",
              "189  5e81bc41a3258347b42f220a  ...    8\n",
              "410  5eba2e94514aab59896bcc5a  ...    9\n",
              "180  5e7f4fb3a3258347b42f2156  ...   10\n",
              "\n",
              "[10 rows x 5 columns]"
            ]
          },
          "metadata": {
            "tags": []
          },
          "execution_count": 449
        }
      ]
    },
    {
      "cell_type": "code",
      "metadata": {
        "id": "DHz4pXNmNJJs"
      },
      "source": [
        " "
      ],
      "execution_count": null,
      "outputs": []
    },
    {
      "cell_type": "markdown",
      "metadata": {
        "id": "uRPb2NWSsjud"
      },
      "source": [
        "# **Content based filtering**\n",
        "-- Recommending based on the similar features of users and items"
      ]
    },
    {
      "cell_type": "markdown",
      "metadata": {
        "id": "VvRVugTPsqJe"
      },
      "source": [
        "## **Recommending similar posts for a post**"
      ]
    },
    {
      "cell_type": "code",
      "metadata": {
        "colab": {
          "base_uri": "https://localhost:8080/",
          "height": 206
        },
        "id": "HtgWHMaHsnRh",
        "outputId": "2ae883e3-4206-4432-9c7c-49e3062e0ea3"
      },
      "source": [
        "posts.head()"
      ],
      "execution_count": null,
      "outputs": [
        {
          "output_type": "execute_result",
          "data": {
            "text/html": [
              "<div>\n",
              "<style scoped>\n",
              "    .dataframe tbody tr th:only-of-type {\n",
              "        vertical-align: middle;\n",
              "    }\n",
              "\n",
              "    .dataframe tbody tr th {\n",
              "        vertical-align: top;\n",
              "    }\n",
              "\n",
              "    .dataframe thead th {\n",
              "        text-align: right;\n",
              "    }\n",
              "</style>\n",
              "<table border=\"1\" class=\"dataframe\">\n",
              "  <thead>\n",
              "    <tr style=\"text-align: right;\">\n",
              "      <th></th>\n",
              "      <th>post_id</th>\n",
              "      <th>title</th>\n",
              "      <th>category</th>\n",
              "      <th>post_type</th>\n",
              "    </tr>\n",
              "  </thead>\n",
              "  <tbody>\n",
              "    <tr>\n",
              "      <th>0</th>\n",
              "      <td>5d62abaa65218653a132c956</td>\n",
              "      <td>hello there</td>\n",
              "      <td>Plant Biotechnology</td>\n",
              "      <td>blog</td>\n",
              "    </tr>\n",
              "    <tr>\n",
              "      <th>1</th>\n",
              "      <td>5d6d39567fa40e1417a4931c</td>\n",
              "      <td>Ml and AI</td>\n",
              "      <td>Artificial Intelligence|Machine Learning|Infor...</td>\n",
              "      <td>blog</td>\n",
              "    </tr>\n",
              "    <tr>\n",
              "      <th>2</th>\n",
              "      <td>5d7d23315720533e15c3b1ee</td>\n",
              "      <td>What is an Operating System ?</td>\n",
              "      <td>Operating Systems</td>\n",
              "      <td>blog</td>\n",
              "    </tr>\n",
              "    <tr>\n",
              "      <th>3</th>\n",
              "      <td>5d7d405e5720533e15c3b1f3</td>\n",
              "      <td>Lord Shiva</td>\n",
              "      <td>Drawings</td>\n",
              "      <td>artwork</td>\n",
              "    </tr>\n",
              "    <tr>\n",
              "      <th>4</th>\n",
              "      <td>5d80dfbc6c53455f896e600e</td>\n",
              "      <td>How Competition law evolved?</td>\n",
              "      <td>Competition Laws</td>\n",
              "      <td>blog</td>\n",
              "    </tr>\n",
              "  </tbody>\n",
              "</table>\n",
              "</div>"
            ],
            "text/plain": [
              "                    post_id  ...  post_type\n",
              "0  5d62abaa65218653a132c956  ...       blog\n",
              "1  5d6d39567fa40e1417a4931c  ...       blog\n",
              "2  5d7d23315720533e15c3b1ee  ...       blog\n",
              "3  5d7d405e5720533e15c3b1f3  ...    artwork\n",
              "4  5d80dfbc6c53455f896e600e  ...       blog\n",
              "\n",
              "[5 rows x 4 columns]"
            ]
          },
          "metadata": {
            "tags": []
          },
          "execution_count": 450
        }
      ]
    },
    {
      "cell_type": "markdown",
      "metadata": {
        "id": "xbk6JFZZdTyc"
      },
      "source": [
        "**Add a column describing about post**"
      ]
    },
    {
      "cell_type": "code",
      "metadata": {
        "colab": {
          "base_uri": "https://localhost:8080/",
          "height": 258
        },
        "id": "8ODw1qR0s9Me",
        "outputId": "5789f389-0657-484a-f869-b153143866c1"
      },
      "source": [
        "def combine(row):\n",
        "  try:\n",
        "    return row['title']+' '+row['category']+' '+row[' post_type']\n",
        "  except:\n",
        "    print(row)\n",
        "df3 = posts.copy()\n",
        "df3['about'] = df3.apply(combine,axis=1) \n",
        "df3.head()"
      ],
      "execution_count": null,
      "outputs": [
        {
          "output_type": "execute_result",
          "data": {
            "text/html": [
              "<div>\n",
              "<style scoped>\n",
              "    .dataframe tbody tr th:only-of-type {\n",
              "        vertical-align: middle;\n",
              "    }\n",
              "\n",
              "    .dataframe tbody tr th {\n",
              "        vertical-align: top;\n",
              "    }\n",
              "\n",
              "    .dataframe thead th {\n",
              "        text-align: right;\n",
              "    }\n",
              "</style>\n",
              "<table border=\"1\" class=\"dataframe\">\n",
              "  <thead>\n",
              "    <tr style=\"text-align: right;\">\n",
              "      <th></th>\n",
              "      <th>post_id</th>\n",
              "      <th>title</th>\n",
              "      <th>category</th>\n",
              "      <th>post_type</th>\n",
              "      <th>about</th>\n",
              "    </tr>\n",
              "  </thead>\n",
              "  <tbody>\n",
              "    <tr>\n",
              "      <th>0</th>\n",
              "      <td>5d62abaa65218653a132c956</td>\n",
              "      <td>hello there</td>\n",
              "      <td>Plant Biotechnology</td>\n",
              "      <td>blog</td>\n",
              "      <td>hello there Plant Biotechnology blog</td>\n",
              "    </tr>\n",
              "    <tr>\n",
              "      <th>1</th>\n",
              "      <td>5d6d39567fa40e1417a4931c</td>\n",
              "      <td>Ml and AI</td>\n",
              "      <td>Artificial Intelligence|Machine Learning|Infor...</td>\n",
              "      <td>blog</td>\n",
              "      <td>Ml and AI Artificial Intelligence|Machine Lear...</td>\n",
              "    </tr>\n",
              "    <tr>\n",
              "      <th>2</th>\n",
              "      <td>5d7d23315720533e15c3b1ee</td>\n",
              "      <td>What is an Operating System ?</td>\n",
              "      <td>Operating Systems</td>\n",
              "      <td>blog</td>\n",
              "      <td>What is an Operating System ? Operating System...</td>\n",
              "    </tr>\n",
              "    <tr>\n",
              "      <th>3</th>\n",
              "      <td>5d7d405e5720533e15c3b1f3</td>\n",
              "      <td>Lord Shiva</td>\n",
              "      <td>Drawings</td>\n",
              "      <td>artwork</td>\n",
              "      <td>Lord Shiva Drawings artwork</td>\n",
              "    </tr>\n",
              "    <tr>\n",
              "      <th>4</th>\n",
              "      <td>5d80dfbc6c53455f896e600e</td>\n",
              "      <td>How Competition law evolved?</td>\n",
              "      <td>Competition Laws</td>\n",
              "      <td>blog</td>\n",
              "      <td>How Competition law evolved? Competition Laws ...</td>\n",
              "    </tr>\n",
              "  </tbody>\n",
              "</table>\n",
              "</div>"
            ],
            "text/plain": [
              "                    post_id  ...                                              about\n",
              "0  5d62abaa65218653a132c956  ...               hello there Plant Biotechnology blog\n",
              "1  5d6d39567fa40e1417a4931c  ...  Ml and AI Artificial Intelligence|Machine Lear...\n",
              "2  5d7d23315720533e15c3b1ee  ...  What is an Operating System ? Operating System...\n",
              "3  5d7d405e5720533e15c3b1f3  ...                        Lord Shiva Drawings artwork\n",
              "4  5d80dfbc6c53455f896e600e  ...  How Competition law evolved? Competition Laws ...\n",
              "\n",
              "[5 rows x 5 columns]"
            ]
          },
          "metadata": {
            "tags": []
          },
          "execution_count": 451
        }
      ]
    },
    {
      "cell_type": "markdown",
      "metadata": {
        "id": "Lc15vzUqdY6l"
      },
      "source": [
        "**Convert words into vectors**"
      ]
    },
    {
      "cell_type": "code",
      "metadata": {
        "id": "WwvN33J0uO2S"
      },
      "source": [
        "from sklearn.feature_extraction.text import CountVectorizer\n",
        "cv = CountVectorizer()\n",
        "count_matrix = cv.fit_transform(df3['about'])"
      ],
      "execution_count": null,
      "outputs": []
    },
    {
      "cell_type": "markdown",
      "metadata": {
        "id": "1riH_CUTddgO"
      },
      "source": [
        "**Find similarity between every pair of posts**"
      ]
    },
    {
      "cell_type": "code",
      "metadata": {
        "colab": {
          "base_uri": "https://localhost:8080/"
        },
        "id": "JVINJBRFwDht",
        "outputId": "1d0e6f5a-08c5-4354-df1c-b89b47b27838"
      },
      "source": [
        "from sklearn.metrics.pairwise import cosine_similarity\n",
        "cosine_sim = cosine_similarity(count_matrix)\n",
        "cosine_sim"
      ],
      "execution_count": null,
      "outputs": [
        {
          "output_type": "execute_result",
          "data": {
            "text/plain": [
              "array([[1.        , 0.14142136, 0.14142136, ..., 0.        , 0.        ,\n",
              "        0.09325048],\n",
              "       [0.14142136, 1.        , 0.1       , ..., 0.63245553, 0.2236068 ,\n",
              "        0.32969024],\n",
              "       [0.14142136, 0.1       , 1.        , ..., 0.        , 0.        ,\n",
              "        0.06593805],\n",
              "       ...,\n",
              "       [0.        , 0.63245553, 0.        , ..., 1.        , 0.23570226,\n",
              "        0.20851441],\n",
              "       [0.        , 0.2236068 , 0.        , ..., 0.23570226, 1.        ,\n",
              "        0.14744196],\n",
              "       [0.09325048, 0.32969024, 0.06593805, ..., 0.20851441, 0.14744196,\n",
              "        1.        ]])"
            ]
          },
          "metadata": {
            "tags": []
          },
          "execution_count": 453
        }
      ]
    },
    {
      "cell_type": "markdown",
      "metadata": {
        "id": "RloJIh3MduqG"
      },
      "source": [
        "**Get the row of corresponding postid's and find 20 top similar posts**"
      ]
    },
    {
      "cell_type": "code",
      "metadata": {
        "colab": {
          "base_uri": "https://localhost:8080/"
        },
        "id": "DynprRkrwQ7T",
        "outputId": "4fc029be-4641-43f1-8608-ba33be83fe48"
      },
      "source": [
        "# If you want to recommend posts by giving post name uncomment following 2 lines\n",
        "# and comment third line\n",
        "#post_title = 'Launching an EC2 instance.'\n",
        "#postid = get_postid(post_title)\n",
        "\n",
        "postid = '5ed13d2876027d35905cc4c2'\n",
        "index = list(df3['post_id']).index(postid)\n",
        "cosine_row = cosine_sim[index]\n",
        "indices = np.argsort(-cosine_row)[:20]\n",
        "indices"
      ],
      "execution_count": null,
      "outputs": [
        {
          "output_type": "execute_result",
          "data": {
            "text/plain": [
              "array([458, 422, 479, 126, 108, 483,  16, 316, 390, 101, 480, 109, 105,\n",
              "        99, 110,  87, 104, 112, 111, 107])"
            ]
          },
          "metadata": {
            "tags": []
          },
          "execution_count": 454
        }
      ]
    },
    {
      "cell_type": "code",
      "metadata": {
        "colab": {
          "base_uri": "https://localhost:8080/",
          "height": 400
        },
        "id": "V0ZMY6jDzyuC",
        "outputId": "3b2502ea-74dd-414b-9934-7fb765860087"
      },
      "source": [
        "print('Recommendations for post_id: ',postid)\n",
        "print(\"Title : \",id_to_title[postid])\n",
        "rec = posts.iloc[indices]\n",
        "rec['rank'] = rec['post_id'].apply(lambda x: list(indices).index(list(posts['post_id']).index(x))+1)\n",
        "rec.head(10)"
      ],
      "execution_count": null,
      "outputs": [
        {
          "output_type": "stream",
          "text": [
            "Recommendations for post_id:  5ed13d2876027d35905cc4c2\n",
            "Title :  Launching an EC2 instance.\n"
          ],
          "name": "stdout"
        },
        {
          "output_type": "execute_result",
          "data": {
            "text/html": [
              "<div>\n",
              "<style scoped>\n",
              "    .dataframe tbody tr th:only-of-type {\n",
              "        vertical-align: middle;\n",
              "    }\n",
              "\n",
              "    .dataframe tbody tr th {\n",
              "        vertical-align: top;\n",
              "    }\n",
              "\n",
              "    .dataframe thead th {\n",
              "        text-align: right;\n",
              "    }\n",
              "</style>\n",
              "<table border=\"1\" class=\"dataframe\">\n",
              "  <thead>\n",
              "    <tr style=\"text-align: right;\">\n",
              "      <th></th>\n",
              "      <th>post_id</th>\n",
              "      <th>title</th>\n",
              "      <th>category</th>\n",
              "      <th>post_type</th>\n",
              "      <th>rank</th>\n",
              "    </tr>\n",
              "  </thead>\n",
              "  <tbody>\n",
              "    <tr>\n",
              "      <th>466</th>\n",
              "      <td>5ed13d2876027d35905cc4c2</td>\n",
              "      <td>Launching an EC2 instance.</td>\n",
              "      <td>Technology</td>\n",
              "      <td>skill</td>\n",
              "      <td>1</td>\n",
              "    </tr>\n",
              "    <tr>\n",
              "      <th>426</th>\n",
              "      <td>5ec54fc9f2781131cc7e50f5</td>\n",
              "      <td>Future Communication Predictions</td>\n",
              "      <td>Science;Technology</td>\n",
              "      <td>skill</td>\n",
              "      <td>2</td>\n",
              "    </tr>\n",
              "    <tr>\n",
              "      <th>487</th>\n",
              "      <td>5ed3476576027d35905cca1d</td>\n",
              "      <td>AWS CLI Setup in Mac</td>\n",
              "      <td>Technology</td>\n",
              "      <td>skill</td>\n",
              "      <td>3</td>\n",
              "    </tr>\n",
              "    <tr>\n",
              "      <th>128</th>\n",
              "      <td>5e65346c85ae350860168b53</td>\n",
              "      <td>What is Information technology?</td>\n",
              "      <td>Computer Technology|Information Technology</td>\n",
              "      <td>blog</td>\n",
              "      <td>4</td>\n",
              "    </tr>\n",
              "    <tr>\n",
              "      <th>110</th>\n",
              "      <td>5e51a46ad701ab08af7929cf</td>\n",
              "      <td>Ethernet</td>\n",
              "      <td>Computer Technology|Information Technology</td>\n",
              "      <td>blog</td>\n",
              "      <td>5</td>\n",
              "    </tr>\n",
              "    <tr>\n",
              "      <th>491</th>\n",
              "      <td>5ed415c6bd514d602c15312d</td>\n",
              "      <td>Face Recognition using Transfer Learning.</td>\n",
              "      <td>Science; Technology</td>\n",
              "      <td>skill</td>\n",
              "      <td>6</td>\n",
              "    </tr>\n",
              "    <tr>\n",
              "      <th>16</th>\n",
              "      <td>5dadf6ae610ba040fbfdf5c8</td>\n",
              "      <td>MIS</td>\n",
              "      <td>Computer Technology|Information Technology</td>\n",
              "      <td>blog</td>\n",
              "      <td>7</td>\n",
              "    </tr>\n",
              "    <tr>\n",
              "      <th>318</th>\n",
              "      <td>5e9db770a3258347b42f2dcf</td>\n",
              "      <td>E s c a p e</td>\n",
              "      <td>Photography</td>\n",
              "      <td>skill</td>\n",
              "      <td>8</td>\n",
              "    </tr>\n",
              "    <tr>\n",
              "      <th>393</th>\n",
              "      <td>5eb1ac4510426255a7aaa024</td>\n",
              "      <td>E-book</td>\n",
              "      <td>Video</td>\n",
              "      <td>skill</td>\n",
              "      <td>9</td>\n",
              "    </tr>\n",
              "    <tr>\n",
              "      <th>103</th>\n",
              "      <td>5e50207cd15de17a8cf1b92c</td>\n",
              "      <td>Mobile Computing Technology</td>\n",
              "      <td>Computer Technology|Mobile Applications</td>\n",
              "      <td>blog</td>\n",
              "      <td>10</td>\n",
              "    </tr>\n",
              "  </tbody>\n",
              "</table>\n",
              "</div>"
            ],
            "text/plain": [
              "                      post_id  ... rank\n",
              "466  5ed13d2876027d35905cc4c2  ...    1\n",
              "426  5ec54fc9f2781131cc7e50f5  ...    2\n",
              "487  5ed3476576027d35905cca1d  ...    3\n",
              "128  5e65346c85ae350860168b53  ...    4\n",
              "110  5e51a46ad701ab08af7929cf  ...    5\n",
              "491  5ed415c6bd514d602c15312d  ...    6\n",
              "16   5dadf6ae610ba040fbfdf5c8  ...    7\n",
              "318  5e9db770a3258347b42f2dcf  ...    8\n",
              "393  5eb1ac4510426255a7aaa024  ...    9\n",
              "103  5e50207cd15de17a8cf1b92c  ...   10\n",
              "\n",
              "[10 rows x 5 columns]"
            ]
          },
          "metadata": {
            "tags": []
          },
          "execution_count": 455
        }
      ]
    },
    {
      "cell_type": "code",
      "metadata": {
        "id": "3JGO4jRH2vl2"
      },
      "source": [
        ""
      ],
      "execution_count": null,
      "outputs": []
    },
    {
      "cell_type": "markdown",
      "metadata": {
        "id": "vTr68-LEmmN_"
      },
      "source": [
        "## **Recommending posts to a user**"
      ]
    },
    {
      "cell_type": "code",
      "metadata": {
        "colab": {
          "base_uri": "https://localhost:8080/",
          "height": 130
        },
        "id": "dPvK4_DamxrB",
        "outputId": "933077c5-249c-4d73-dcdf-ddcfd3a1fb32"
      },
      "source": [
        "userid = '5ece02427023451e66223861'\n",
        "print(\"Previous posts viewed by user: \",userid)\n",
        "df[df['user_id']==userid].drop('user_id',axis=1)"
      ],
      "execution_count": null,
      "outputs": [
        {
          "output_type": "stream",
          "text": [
            "Previous posts viewed by user:  5ece02427023451e66223861\n"
          ],
          "name": "stdout"
        },
        {
          "output_type": "execute_result",
          "data": {
            "text/html": [
              "<div>\n",
              "<style scoped>\n",
              "    .dataframe tbody tr th:only-of-type {\n",
              "        vertical-align: middle;\n",
              "    }\n",
              "\n",
              "    .dataframe tbody tr th {\n",
              "        vertical-align: top;\n",
              "    }\n",
              "\n",
              "    .dataframe thead th {\n",
              "        text-align: right;\n",
              "    }\n",
              "</style>\n",
              "<table border=\"1\" class=\"dataframe\">\n",
              "  <thead>\n",
              "    <tr style=\"text-align: right;\">\n",
              "      <th></th>\n",
              "      <th>post_id</th>\n",
              "      <th>visits</th>\n",
              "      <th>title</th>\n",
              "      <th>category</th>\n",
              "      <th>post_type</th>\n",
              "    </tr>\n",
              "  </thead>\n",
              "  <tbody>\n",
              "    <tr>\n",
              "      <th>768</th>\n",
              "      <td>5ed09ad076027d35905cc15f</td>\n",
              "      <td>1</td>\n",
              "      <td>Understanding Cloud Computing(AWS)</td>\n",
              "      <td>Computer Technology|Cloud Computing</td>\n",
              "      <td>blog</td>\n",
              "    </tr>\n",
              "    <tr>\n",
              "      <th>790</th>\n",
              "      <td>5ed1ff0276027d35905cc60d</td>\n",
              "      <td>1</td>\n",
              "      <td>AWS services and how to launch OS on AWS Cloud</td>\n",
              "      <td>Computer Technology|Cloud Computing</td>\n",
              "      <td>blog</td>\n",
              "    </tr>\n",
              "  </tbody>\n",
              "</table>\n",
              "</div>"
            ],
            "text/plain": [
              "                      post_id  ...   post_type\n",
              "768  5ed09ad076027d35905cc15f  ...        blog\n",
              "790  5ed1ff0276027d35905cc60d  ...        blog\n",
              "\n",
              "[2 rows x 5 columns]"
            ]
          },
          "metadata": {
            "tags": []
          },
          "execution_count": 456
        }
      ]
    },
    {
      "cell_type": "markdown",
      "metadata": {
        "id": "6phCgGEk3euh"
      },
      "source": [
        "**Get the indices of posts viewed by user_id**"
      ]
    },
    {
      "cell_type": "code",
      "metadata": {
        "colab": {
          "base_uri": "https://localhost:8080/"
        },
        "id": "rn8NxnXI2WDS",
        "outputId": "af06b507-197a-4681-e064-feca6c359c41"
      },
      "source": [
        "posts = df[df['user_id']==userid]['post_id'].values\n",
        "post_indices = [list(df3['post_id']).index(i) for i in posts]\n",
        "post_indices"
      ],
      "execution_count": null,
      "outputs": [
        {
          "output_type": "execute_result",
          "data": {
            "text/plain": [
              "[456, 462]"
            ]
          },
          "metadata": {
            "tags": []
          },
          "execution_count": 457
        }
      ]
    },
    {
      "cell_type": "markdown",
      "metadata": {
        "id": "5TjEFofz3k5J"
      },
      "source": [
        "**Find 20 posts which are similar to past viewed posts of user_id**"
      ]
    },
    {
      "cell_type": "code",
      "metadata": {
        "colab": {
          "base_uri": "https://localhost:8080/"
        },
        "id": "QOQxBJWVmqJr",
        "outputId": "a7237c3d-83ec-4314-e017-4e83657064f1"
      },
      "source": [
        "# Calculate each column sum across post_indices rows\n",
        "similar_posts = cosine_sim[post_indices].sum(axis=0)\n",
        "indices = np.argsort(-similar_posts)[:20]\n",
        "indices"
      ],
      "execution_count": null,
      "outputs": [
        {
          "output_type": "execute_result",
          "data": {
            "text/plain": [
              "array([456, 462, 139, 463, 289, 102, 101,  16, 108, 110, 105,  99, 100,\n",
              "        89, 112, 104, 106, 107, 111, 114])"
            ]
          },
          "metadata": {
            "tags": []
          },
          "execution_count": 458
        }
      ]
    },
    {
      "cell_type": "code",
      "metadata": {
        "colab": {
          "base_uri": "https://localhost:8080/",
          "height": 381
        },
        "id": "NP8R2tg4piOU",
        "outputId": "11514b67-52bd-4bd2-a1f1-64ee81602b1b"
      },
      "source": [
        "print('Recommendations for user_id: ',userid)\n",
        "rec = df3.iloc[indices]\n",
        "rec['rank'] = rec['post_id'].apply(lambda x: list(indices).index(list(df3['post_id']).index(x))+1)\n",
        "rec = rec.drop('about',axis=1)\n",
        "rec.head(10)"
      ],
      "execution_count": null,
      "outputs": [
        {
          "output_type": "stream",
          "text": [
            "Recommendations for user_id:  5ece02427023451e66223861\n"
          ],
          "name": "stdout"
        },
        {
          "output_type": "execute_result",
          "data": {
            "text/html": [
              "<div>\n",
              "<style scoped>\n",
              "    .dataframe tbody tr th:only-of-type {\n",
              "        vertical-align: middle;\n",
              "    }\n",
              "\n",
              "    .dataframe tbody tr th {\n",
              "        vertical-align: top;\n",
              "    }\n",
              "\n",
              "    .dataframe thead th {\n",
              "        text-align: right;\n",
              "    }\n",
              "</style>\n",
              "<table border=\"1\" class=\"dataframe\">\n",
              "  <thead>\n",
              "    <tr style=\"text-align: right;\">\n",
              "      <th></th>\n",
              "      <th>post_id</th>\n",
              "      <th>title</th>\n",
              "      <th>category</th>\n",
              "      <th>post_type</th>\n",
              "      <th>rank</th>\n",
              "    </tr>\n",
              "  </thead>\n",
              "  <tbody>\n",
              "    <tr>\n",
              "      <th>461</th>\n",
              "      <td>5ed09ad076027d35905cc15f</td>\n",
              "      <td>Understanding Cloud Computing(AWS)</td>\n",
              "      <td>Computer Technology|Cloud Computing</td>\n",
              "      <td>blog</td>\n",
              "      <td>1</td>\n",
              "    </tr>\n",
              "    <tr>\n",
              "      <th>470</th>\n",
              "      <td>5ed1ff0276027d35905cc60d</td>\n",
              "      <td>AWS services and how to launch OS on AWS Cloud</td>\n",
              "      <td>Computer Technology|Cloud Computing</td>\n",
              "      <td>blog</td>\n",
              "      <td>2</td>\n",
              "    </tr>\n",
              "    <tr>\n",
              "      <th>141</th>\n",
              "      <td>5e77738bcfc8b713f5ac7b36</td>\n",
              "      <td>Cloud Computing</td>\n",
              "      <td>Computer Technology|Cloud Computing</td>\n",
              "      <td>blog</td>\n",
              "      <td>3</td>\n",
              "    </tr>\n",
              "    <tr>\n",
              "      <th>471</th>\n",
              "      <td>5ed229d976027d35905cc666</td>\n",
              "      <td>Cloud Computing</td>\n",
              "      <td>Computer Technology|Computation|Computer Appli...</td>\n",
              "      <td>blog</td>\n",
              "      <td>4</td>\n",
              "    </tr>\n",
              "    <tr>\n",
              "      <th>291</th>\n",
              "      <td>5e966ad3a3258347b42f2aaf</td>\n",
              "      <td>8 Best Machine Learning Courses for 2020</td>\n",
              "      <td>Computer Technology|Cloud Computing|Artificial...</td>\n",
              "      <td>blog</td>\n",
              "      <td>5</td>\n",
              "    </tr>\n",
              "    <tr>\n",
              "      <th>104</th>\n",
              "      <td>5e5023f1d15de17a8cf1b939</td>\n",
              "      <td>Applications of mobile computing</td>\n",
              "      <td>Computer Technology|Computer Application</td>\n",
              "      <td>blog</td>\n",
              "      <td>6</td>\n",
              "    </tr>\n",
              "    <tr>\n",
              "      <th>103</th>\n",
              "      <td>5e50207cd15de17a8cf1b92c</td>\n",
              "      <td>Mobile Computing Technology</td>\n",
              "      <td>Computer Technology|Mobile Applications</td>\n",
              "      <td>blog</td>\n",
              "      <td>7</td>\n",
              "    </tr>\n",
              "    <tr>\n",
              "      <th>16</th>\n",
              "      <td>5dadf6ae610ba040fbfdf5c8</td>\n",
              "      <td>MIS</td>\n",
              "      <td>Computer Technology|Information Technology</td>\n",
              "      <td>blog</td>\n",
              "      <td>8</td>\n",
              "    </tr>\n",
              "    <tr>\n",
              "      <th>110</th>\n",
              "      <td>5e51a46ad701ab08af7929cf</td>\n",
              "      <td>Ethernet</td>\n",
              "      <td>Computer Technology|Information Technology</td>\n",
              "      <td>blog</td>\n",
              "      <td>9</td>\n",
              "    </tr>\n",
              "    <tr>\n",
              "      <th>112</th>\n",
              "      <td>5e52e1b0d701ab08af7929eb</td>\n",
              "      <td>Network Model</td>\n",
              "      <td>Computer Technology|Computer Application|Infor...</td>\n",
              "      <td>blog</td>\n",
              "      <td>10</td>\n",
              "    </tr>\n",
              "  </tbody>\n",
              "</table>\n",
              "</div>"
            ],
            "text/plain": [
              "                      post_id  ... rank\n",
              "461  5ed09ad076027d35905cc15f  ...    1\n",
              "470  5ed1ff0276027d35905cc60d  ...    2\n",
              "141  5e77738bcfc8b713f5ac7b36  ...    3\n",
              "471  5ed229d976027d35905cc666  ...    4\n",
              "291  5e966ad3a3258347b42f2aaf  ...    5\n",
              "104  5e5023f1d15de17a8cf1b939  ...    6\n",
              "103  5e50207cd15de17a8cf1b92c  ...    7\n",
              "16   5dadf6ae610ba040fbfdf5c8  ...    8\n",
              "110  5e51a46ad701ab08af7929cf  ...    9\n",
              "112  5e52e1b0d701ab08af7929eb  ...   10\n",
              "\n",
              "[10 rows x 5 columns]"
            ]
          },
          "metadata": {
            "tags": []
          },
          "execution_count": 459
        }
      ]
    },
    {
      "cell_type": "code",
      "metadata": {
        "id": "76v_xR1Cq_xz"
      },
      "source": [
        ""
      ],
      "execution_count": null,
      "outputs": []
    }
  ]
}